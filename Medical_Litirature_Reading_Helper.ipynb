{
  "cells": [
    {
      "cell_type": "code",
      "execution_count": null,
      "metadata": {
        "id": "4x2MIlWq5Yla"
      },
      "outputs": [],
      "source": [
        "from google.colab import drive\n",
        "import pandas as pd\n",
        "import numpy as np\n",
        "import matplotlib.pyplot as plt\n",
        "from sklearn.preprocessing import OneHotEncoder\n",
        "from sklearn.preprocessing import LabelEncoder\n",
        "from sklearn.naive_bayes import MultinomialNB\n",
        "from sklearn.feature_extraction.text import TfidfVectorizer\n",
        "from sklearn.pipeline import Pipeline\n",
        "import tensorflow as tf\n",
        "import tensorflow_hub as hub\n",
        "from tensorflow.keras.layers import TextVectorization\n",
        "from tensorflow.keras.layers import Embedding\n",
        "\n",
        "import os"
      ]
    },
    {
      "cell_type": "code",
      "execution_count": null,
      "metadata": {
        "id": "CmB96lxa5mrI"
      },
      "outputs": [],
      "source": [
        "\n",
        "#drive.mount('/content/drive')"
      ]
    },
    {
      "cell_type": "markdown",
      "metadata": {
        "id": "Mq4lxHKmlQ6l"
      },
      "source": [
        "## Helper Functions"
      ]
    },
    {
      "cell_type": "code",
      "execution_count": null,
      "metadata": {
        "id": "O09_4p_GlVzk"
      },
      "outputs": [],
      "source": [
        "from sklearn.metrics import accuracy_score, precision_recall_fscore_support\n",
        "\n",
        "def calculate_results(y_true, y_pred):\n",
        "  \"\"\"\n",
        "  Calculates model accuracy, precision, recall and f1 score of a  classification model.\n",
        "\n",
        "  Args:\n",
        "      y_true: true labels in the form of a 1D array\n",
        "      y_pred: predicted labels in the form of a 1D array\n",
        "\n",
        "  Returns a dictionary of accuracy, precision, recall, f1-score.\n",
        "  \"\"\"\n",
        "  # Calculate model accuracy\n",
        "  model_accuracy = round(accuracy_score(y_true, y_pred),4)\n",
        "  # Calculate model precision, recall and f1 score using \"weighted average\n",
        "  model_precision, model_recall, model_f1, _ = precision_recall_fscore_support(y_true, y_pred, average=\"weighted\")\n",
        "  model_results = {\"Accuracy\": model_accuracy*100,\n",
        "                  \"Precision\": round(model_precision,4)*100,\n",
        "                  \"Recall\": round(model_recall,4)*100,\n",
        "                  \"F1\": round(model_f1,4)*100}\n",
        "  return model_results\n"
      ]
    },
    {
      "cell_type": "markdown",
      "metadata": {
        "id": "ZgesegKzC3Ha"
      },
      "source": [
        "# NLP Model To Read Medical Data Easier"
      ]
    },
    {
      "cell_type": "markdown",
      "metadata": {
        "id": "pO0ZB0agdmJe"
      },
      "source": [
        "## Prepare The Data"
      ]
    },
    {
      "cell_type": "markdown",
      "metadata": {
        "id": "NLqW1zzlDByn"
      },
      "source": [
        "### Get The Data"
      ]
    },
    {
      "cell_type": "code",
      "execution_count": null,
      "metadata": {
        "id": "Acy4BGDv3eHE"
      },
      "outputs": [],
      "source": [
        "data_dir='/content/'"
      ]
    },
    {
      "cell_type": "code",
      "execution_count": null,
      "metadata": {
        "colab": {
          "base_uri": "https://localhost:8080/"
        },
        "id": "qK3A0cAIEXgF",
        "outputId": "be41237d-0acf-410c-c8ef-125545a96b8b"
      },
      "outputs": [
        {
          "data": {
            "text/plain": [
              "['/content/.config',\n",
              " '/content/dev.txt',\n",
              " '/content/train.txt',\n",
              " '/content/test.txt',\n",
              " '/content/sample_data']"
            ]
          },
          "execution_count": 6,
          "metadata": {},
          "output_type": "execute_result"
        }
      ],
      "source": [
        "filename=[data_dir+filename for filename in os.listdir(data_dir)]\n",
        "filename"
      ]
    },
    {
      "cell_type": "code",
      "execution_count": null,
      "metadata": {
        "id": "m3M_zVgl5mtq"
      },
      "outputs": [],
      "source": [
        "def get_lines(filename):\n",
        "  with open(filename,'r') as f:\n",
        "    return f.readlines()\n"
      ]
    },
    {
      "cell_type": "code",
      "execution_count": null,
      "metadata": {
        "colab": {
          "base_uri": "https://localhost:8080/"
        },
        "id": "INbLTbqy5mv6",
        "outputId": "f46802f6-66f5-4198-c5ef-2ff96de9f41d"
      },
      "outputs": [
        {
          "data": {
            "text/plain": [
              "['###24293578\\n',\n",
              " 'OBJECTIVE\\tTo investigate the efficacy of @ weeks of daily low-dose oral prednisolone in improving pain , mobility , and systemic low-grade inflammation in the short term and whether the effect would be sustained at @ weeks in older adults with moderate to severe knee osteoarthritis ( OA ) .\\n',\n",
              " 'METHODS\\tA total of @ patients with primary knee OA were randomized @:@ ; @ received @ mg/day of prednisolone and @ received placebo for @ weeks .\\n',\n",
              " 'METHODS\\tOutcome measures included pain reduction and improvement in function scores and systemic inflammation markers .\\n',\n",
              " 'METHODS\\tPain was assessed using the visual analog pain scale ( @-@ mm ) .\\n',\n",
              " 'METHODS\\tSecondary outcome measures included the Western Ontario and McMaster Universities Osteoarthritis Index scores , patient global assessment ( PGA ) of the severity of knee OA , and @-min walk distance ( @MWD ) .\\n',\n",
              " 'METHODS\\tSerum levels of interleukin @ ( IL-@ ) , IL-@ , tumor necrosis factor ( TNF ) - , and high-sensitivity C-reactive protein ( hsCRP ) were measured .\\n',\n",
              " 'RESULTS\\tThere was a clinically relevant reduction in the intervention group compared to the placebo group for knee pain , physical function , PGA , and @MWD at @ weeks .\\n',\n",
              " 'RESULTS\\tThe mean difference between treatment arms ( @ % CI ) was @ ( @-@ @ ) , p < @ ; @ ( @-@ @ ) , p < @ ; @ ( @-@ @ ) , p < @ ; and @ ( @-@ @ ) , p < @ , respectively .\\n',\n",
              " 'RESULTS\\tFurther , there was a clinically relevant reduction in the serum levels of IL-@ , IL-@ , TNF - , and hsCRP at @ weeks in the intervention group when compared to the placebo group .\\n',\n",
              " 'RESULTS\\tThese differences remained significant at @ weeks .\\n',\n",
              " 'RESULTS\\tThe Outcome Measures in Rheumatology Clinical Trials-Osteoarthritis Research Society International responder rate was @ % in the intervention group and @ % in the placebo group ( p < @ ) .\\n',\n",
              " 'CONCLUSIONS\\tLow-dose oral prednisolone had both a short-term and a longer sustained effect resulting in less knee pain , better physical function , and attenuation of systemic inflammation in older patients with knee OA ( ClinicalTrials.gov identifier NCT@ ) .\\n',\n",
              " '\\n',\n",
              " '###24854809\\n']"
            ]
          },
          "execution_count": 8,
          "metadata": {},
          "output_type": "execute_result"
        }
      ],
      "source": [
        "train_lines= get_lines(data_dir + 'train.txt')\n",
        "train_lines[:15]"
      ]
    },
    {
      "cell_type": "code",
      "execution_count": null,
      "metadata": {
        "colab": {
          "base_uri": "https://localhost:8080/"
        },
        "id": "D1zrTF7U5myK",
        "outputId": "652812a9-de1b-4179-db8b-3590e621d921"
      },
      "outputs": [
        {
          "data": {
            "text/plain": [
              "210040"
            ]
          },
          "execution_count": 9,
          "metadata": {},
          "output_type": "execute_result"
        }
      ],
      "source": [
        "len(train_lines)"
      ]
    },
    {
      "cell_type": "markdown",
      "metadata": {
        "id": "I0CIeLxXdejC"
      },
      "source": [
        "### Preprocess The Data"
      ]
    },
    {
      "cell_type": "code",
      "execution_count": null,
      "metadata": {
        "id": "DDpfc4QO5m0a"
      },
      "outputs": [],
      "source": [
        "def preprocess(filename):\n",
        "\n",
        "  input_lines=get_lines(filename) # get all the lines of the file\n",
        "  abstract_lines=''   # creat an empty abstract\n",
        "  abstract_samples=[] #create an empty list of abstract\n",
        "\n",
        "  for line in input_lines :\n",
        "    if line.startswith(\"###\") : # check if it starts with an ID\n",
        "      abstract_id= line\n",
        "      abstract_lines= \"\"\n",
        "    elif line.isspace(): # check if it is an empty space\n",
        "      abstract_line_split= abstract_lines.splitlines()\n",
        "      # Iterate through each line of a single abstract and count them\n",
        "      for abstract_line_number, abstract_line in enumerate(abstract_line_split):\n",
        "        line_data={}\n",
        "        target_text_split = abstract_line.split(\"\\t\") # split the lines into target label sperated by tabular space\n",
        "        line_data[\"target\"]= target_text_split[0] # label\n",
        "        line_data[\"text\"]= target_text_split[1].lower() # target text in lowercase\n",
        "        line_data[\"line_number\"]=abstract_line_number #get the line number\n",
        "        line_data[\"total_lines\"]= len(abstract_line_split) - 1 # get the number of lines in the target text\n",
        "        abstract_samples.append(line_data)\n",
        "    else : # if the conditions aren't met the line containes a labelled sentence\n",
        "      abstract_lines += line\n",
        "\n",
        "  return abstract_samples\n",
        "\n",
        "\n",
        "\n"
      ]
    },
    {
      "cell_type": "code",
      "execution_count": null,
      "metadata": {
        "colab": {
          "base_uri": "https://localhost:8080/"
        },
        "id": "8pb5w-t85m23",
        "outputId": "48207af7-8653-459d-a7a6-8c7030ecc82d"
      },
      "outputs": [
        {
          "data": {
            "text/plain": [
              "[{'target': 'OBJECTIVE',\n",
              "  'text': 'to investigate the efficacy of @ weeks of daily low-dose oral prednisolone in improving pain , mobility , and systemic low-grade inflammation in the short term and whether the effect would be sustained at @ weeks in older adults with moderate to severe knee osteoarthritis ( oa ) .',\n",
              "  'line_number': 0,\n",
              "  'total_lines': 11},\n",
              " {'target': 'METHODS',\n",
              "  'text': 'a total of @ patients with primary knee oa were randomized @:@ ; @ received @ mg/day of prednisolone and @ received placebo for @ weeks .',\n",
              "  'line_number': 1,\n",
              "  'total_lines': 11},\n",
              " {'target': 'METHODS',\n",
              "  'text': 'outcome measures included pain reduction and improvement in function scores and systemic inflammation markers .',\n",
              "  'line_number': 2,\n",
              "  'total_lines': 11}]"
            ]
          },
          "execution_count": 11,
          "metadata": {},
          "output_type": "execute_result"
        }
      ],
      "source": [
        "## quick test\n",
        "\n",
        "preprocess(data_dir+'train.txt')[0:3]"
      ]
    },
    {
      "cell_type": "code",
      "execution_count": null,
      "metadata": {
        "colab": {
          "base_uri": "https://localhost:8080/"
        },
        "id": "JMJYqeeA5m7o",
        "outputId": "fe7d9563-5341-45cc-c2a9-248c8344600e"
      },
      "outputs": [
        {
          "name": "stdout",
          "output_type": "stream",
          "text": [
            "180040 30212 30135\n"
          ]
        }
      ],
      "source": [
        "train_samples = preprocess(data_dir + 'train.txt')\n",
        "val_samples = preprocess(data_dir + 'dev.txt')\n",
        "test_samples = preprocess(data_dir + 'test.txt')\n",
        "\n",
        "print(len(train_samples),len(val_samples),len(test_samples))"
      ]
    },
    {
      "cell_type": "markdown",
      "metadata": {
        "id": "lounGcoLdWys"
      },
      "source": [
        "### Convert Into Data Fame"
      ]
    },
    {
      "cell_type": "code",
      "execution_count": null,
      "metadata": {
        "colab": {
          "base_uri": "https://localhost:8080/",
          "height": 206
        },
        "id": "9w87ZJEI5m-J",
        "outputId": "9e3f2103-b883-460c-f23d-7503d2eb7c32"
      },
      "outputs": [
        {
          "data": {
            "application/vnd.google.colaboratory.intrinsic+json": {
              "type": "dataframe",
              "variable_name": "train_df"
            },
            "text/html": [
              "\n",
              "  <div id=\"df-b562a5f4-3f1f-4b2d-bea8-d202b3ccd86d\" class=\"colab-df-container\">\n",
              "    <div>\n",
              "<style scoped>\n",
              "    .dataframe tbody tr th:only-of-type {\n",
              "        vertical-align: middle;\n",
              "    }\n",
              "\n",
              "    .dataframe tbody tr th {\n",
              "        vertical-align: top;\n",
              "    }\n",
              "\n",
              "    .dataframe thead th {\n",
              "        text-align: right;\n",
              "    }\n",
              "</style>\n",
              "<table border=\"1\" class=\"dataframe\">\n",
              "  <thead>\n",
              "    <tr style=\"text-align: right;\">\n",
              "      <th></th>\n",
              "      <th>target</th>\n",
              "      <th>text</th>\n",
              "      <th>line_number</th>\n",
              "      <th>total_lines</th>\n",
              "    </tr>\n",
              "  </thead>\n",
              "  <tbody>\n",
              "    <tr>\n",
              "      <th>0</th>\n",
              "      <td>OBJECTIVE</td>\n",
              "      <td>to investigate the efficacy of @ weeks of dail...</td>\n",
              "      <td>0</td>\n",
              "      <td>11</td>\n",
              "    </tr>\n",
              "    <tr>\n",
              "      <th>1</th>\n",
              "      <td>METHODS</td>\n",
              "      <td>a total of @ patients with primary knee oa wer...</td>\n",
              "      <td>1</td>\n",
              "      <td>11</td>\n",
              "    </tr>\n",
              "    <tr>\n",
              "      <th>2</th>\n",
              "      <td>METHODS</td>\n",
              "      <td>outcome measures included pain reduction and i...</td>\n",
              "      <td>2</td>\n",
              "      <td>11</td>\n",
              "    </tr>\n",
              "    <tr>\n",
              "      <th>3</th>\n",
              "      <td>METHODS</td>\n",
              "      <td>pain was assessed using the visual analog pain...</td>\n",
              "      <td>3</td>\n",
              "      <td>11</td>\n",
              "    </tr>\n",
              "    <tr>\n",
              "      <th>4</th>\n",
              "      <td>METHODS</td>\n",
              "      <td>secondary outcome measures included the wester...</td>\n",
              "      <td>4</td>\n",
              "      <td>11</td>\n",
              "    </tr>\n",
              "  </tbody>\n",
              "</table>\n",
              "</div>\n",
              "    <div class=\"colab-df-buttons\">\n",
              "\n",
              "  <div class=\"colab-df-container\">\n",
              "    <button class=\"colab-df-convert\" onclick=\"convertToInteractive('df-b562a5f4-3f1f-4b2d-bea8-d202b3ccd86d')\"\n",
              "            title=\"Convert this dataframe to an interactive table.\"\n",
              "            style=\"display:none;\">\n",
              "\n",
              "  <svg xmlns=\"http://www.w3.org/2000/svg\" height=\"24px\" viewBox=\"0 -960 960 960\">\n",
              "    <path d=\"M120-120v-720h720v720H120Zm60-500h600v-160H180v160Zm220 220h160v-160H400v160Zm0 220h160v-160H400v160ZM180-400h160v-160H180v160Zm440 0h160v-160H620v160ZM180-180h160v-160H180v160Zm440 0h160v-160H620v160Z\"/>\n",
              "  </svg>\n",
              "    </button>\n",
              "\n",
              "  <style>\n",
              "    .colab-df-container {\n",
              "      display:flex;\n",
              "      gap: 12px;\n",
              "    }\n",
              "\n",
              "    .colab-df-convert {\n",
              "      background-color: #E8F0FE;\n",
              "      border: none;\n",
              "      border-radius: 50%;\n",
              "      cursor: pointer;\n",
              "      display: none;\n",
              "      fill: #1967D2;\n",
              "      height: 32px;\n",
              "      padding: 0 0 0 0;\n",
              "      width: 32px;\n",
              "    }\n",
              "\n",
              "    .colab-df-convert:hover {\n",
              "      background-color: #E2EBFA;\n",
              "      box-shadow: 0px 1px 2px rgba(60, 64, 67, 0.3), 0px 1px 3px 1px rgba(60, 64, 67, 0.15);\n",
              "      fill: #174EA6;\n",
              "    }\n",
              "\n",
              "    .colab-df-buttons div {\n",
              "      margin-bottom: 4px;\n",
              "    }\n",
              "\n",
              "    [theme=dark] .colab-df-convert {\n",
              "      background-color: #3B4455;\n",
              "      fill: #D2E3FC;\n",
              "    }\n",
              "\n",
              "    [theme=dark] .colab-df-convert:hover {\n",
              "      background-color: #434B5C;\n",
              "      box-shadow: 0px 1px 3px 1px rgba(0, 0, 0, 0.15);\n",
              "      filter: drop-shadow(0px 1px 2px rgba(0, 0, 0, 0.3));\n",
              "      fill: #FFFFFF;\n",
              "    }\n",
              "  </style>\n",
              "\n",
              "    <script>\n",
              "      const buttonEl =\n",
              "        document.querySelector('#df-b562a5f4-3f1f-4b2d-bea8-d202b3ccd86d button.colab-df-convert');\n",
              "      buttonEl.style.display =\n",
              "        google.colab.kernel.accessAllowed ? 'block' : 'none';\n",
              "\n",
              "      async function convertToInteractive(key) {\n",
              "        const element = document.querySelector('#df-b562a5f4-3f1f-4b2d-bea8-d202b3ccd86d');\n",
              "        const dataTable =\n",
              "          await google.colab.kernel.invokeFunction('convertToInteractive',\n",
              "                                                    [key], {});\n",
              "        if (!dataTable) return;\n",
              "\n",
              "        const docLinkHtml = 'Like what you see? Visit the ' +\n",
              "          '<a target=\"_blank\" href=https://colab.research.google.com/notebooks/data_table.ipynb>data table notebook</a>'\n",
              "          + ' to learn more about interactive tables.';\n",
              "        element.innerHTML = '';\n",
              "        dataTable['output_type'] = 'display_data';\n",
              "        await google.colab.output.renderOutput(dataTable, element);\n",
              "        const docLink = document.createElement('div');\n",
              "        docLink.innerHTML = docLinkHtml;\n",
              "        element.appendChild(docLink);\n",
              "      }\n",
              "    </script>\n",
              "  </div>\n",
              "\n",
              "\n",
              "<div id=\"df-03e41d6b-4a8b-4717-9966-c86926faf8b4\">\n",
              "  <button class=\"colab-df-quickchart\" onclick=\"quickchart('df-03e41d6b-4a8b-4717-9966-c86926faf8b4')\"\n",
              "            title=\"Suggest charts\"\n",
              "            style=\"display:none;\">\n",
              "\n",
              "<svg xmlns=\"http://www.w3.org/2000/svg\" height=\"24px\"viewBox=\"0 0 24 24\"\n",
              "     width=\"24px\">\n",
              "    <g>\n",
              "        <path d=\"M19 3H5c-1.1 0-2 .9-2 2v14c0 1.1.9 2 2 2h14c1.1 0 2-.9 2-2V5c0-1.1-.9-2-2-2zM9 17H7v-7h2v7zm4 0h-2V7h2v10zm4 0h-2v-4h2v4z\"/>\n",
              "    </g>\n",
              "</svg>\n",
              "  </button>\n",
              "\n",
              "<style>\n",
              "  .colab-df-quickchart {\n",
              "      --bg-color: #E8F0FE;\n",
              "      --fill-color: #1967D2;\n",
              "      --hover-bg-color: #E2EBFA;\n",
              "      --hover-fill-color: #174EA6;\n",
              "      --disabled-fill-color: #AAA;\n",
              "      --disabled-bg-color: #DDD;\n",
              "  }\n",
              "\n",
              "  [theme=dark] .colab-df-quickchart {\n",
              "      --bg-color: #3B4455;\n",
              "      --fill-color: #D2E3FC;\n",
              "      --hover-bg-color: #434B5C;\n",
              "      --hover-fill-color: #FFFFFF;\n",
              "      --disabled-bg-color: #3B4455;\n",
              "      --disabled-fill-color: #666;\n",
              "  }\n",
              "\n",
              "  .colab-df-quickchart {\n",
              "    background-color: var(--bg-color);\n",
              "    border: none;\n",
              "    border-radius: 50%;\n",
              "    cursor: pointer;\n",
              "    display: none;\n",
              "    fill: var(--fill-color);\n",
              "    height: 32px;\n",
              "    padding: 0;\n",
              "    width: 32px;\n",
              "  }\n",
              "\n",
              "  .colab-df-quickchart:hover {\n",
              "    background-color: var(--hover-bg-color);\n",
              "    box-shadow: 0 1px 2px rgba(60, 64, 67, 0.3), 0 1px 3px 1px rgba(60, 64, 67, 0.15);\n",
              "    fill: var(--button-hover-fill-color);\n",
              "  }\n",
              "\n",
              "  .colab-df-quickchart-complete:disabled,\n",
              "  .colab-df-quickchart-complete:disabled:hover {\n",
              "    background-color: var(--disabled-bg-color);\n",
              "    fill: var(--disabled-fill-color);\n",
              "    box-shadow: none;\n",
              "  }\n",
              "\n",
              "  .colab-df-spinner {\n",
              "    border: 2px solid var(--fill-color);\n",
              "    border-color: transparent;\n",
              "    border-bottom-color: var(--fill-color);\n",
              "    animation:\n",
              "      spin 1s steps(1) infinite;\n",
              "  }\n",
              "\n",
              "  @keyframes spin {\n",
              "    0% {\n",
              "      border-color: transparent;\n",
              "      border-bottom-color: var(--fill-color);\n",
              "      border-left-color: var(--fill-color);\n",
              "    }\n",
              "    20% {\n",
              "      border-color: transparent;\n",
              "      border-left-color: var(--fill-color);\n",
              "      border-top-color: var(--fill-color);\n",
              "    }\n",
              "    30% {\n",
              "      border-color: transparent;\n",
              "      border-left-color: var(--fill-color);\n",
              "      border-top-color: var(--fill-color);\n",
              "      border-right-color: var(--fill-color);\n",
              "    }\n",
              "    40% {\n",
              "      border-color: transparent;\n",
              "      border-right-color: var(--fill-color);\n",
              "      border-top-color: var(--fill-color);\n",
              "    }\n",
              "    60% {\n",
              "      border-color: transparent;\n",
              "      border-right-color: var(--fill-color);\n",
              "    }\n",
              "    80% {\n",
              "      border-color: transparent;\n",
              "      border-right-color: var(--fill-color);\n",
              "      border-bottom-color: var(--fill-color);\n",
              "    }\n",
              "    90% {\n",
              "      border-color: transparent;\n",
              "      border-bottom-color: var(--fill-color);\n",
              "    }\n",
              "  }\n",
              "</style>\n",
              "\n",
              "  <script>\n",
              "    async function quickchart(key) {\n",
              "      const quickchartButtonEl =\n",
              "        document.querySelector('#' + key + ' button');\n",
              "      quickchartButtonEl.disabled = true;  // To prevent multiple clicks.\n",
              "      quickchartButtonEl.classList.add('colab-df-spinner');\n",
              "      try {\n",
              "        const charts = await google.colab.kernel.invokeFunction(\n",
              "            'suggestCharts', [key], {});\n",
              "      } catch (error) {\n",
              "        console.error('Error during call to suggestCharts:', error);\n",
              "      }\n",
              "      quickchartButtonEl.classList.remove('colab-df-spinner');\n",
              "      quickchartButtonEl.classList.add('colab-df-quickchart-complete');\n",
              "    }\n",
              "    (() => {\n",
              "      let quickchartButtonEl =\n",
              "        document.querySelector('#df-03e41d6b-4a8b-4717-9966-c86926faf8b4 button');\n",
              "      quickchartButtonEl.style.display =\n",
              "        google.colab.kernel.accessAllowed ? 'block' : 'none';\n",
              "    })();\n",
              "  </script>\n",
              "</div>\n",
              "    </div>\n",
              "  </div>\n"
            ],
            "text/plain": [
              "      target                                               text  line_number  \\\n",
              "0  OBJECTIVE  to investigate the efficacy of @ weeks of dail...            0   \n",
              "1    METHODS  a total of @ patients with primary knee oa wer...            1   \n",
              "2    METHODS  outcome measures included pain reduction and i...            2   \n",
              "3    METHODS  pain was assessed using the visual analog pain...            3   \n",
              "4    METHODS  secondary outcome measures included the wester...            4   \n",
              "\n",
              "   total_lines  \n",
              "0           11  \n",
              "1           11  \n",
              "2           11  \n",
              "3           11  \n",
              "4           11  "
            ]
          },
          "execution_count": 13,
          "metadata": {},
          "output_type": "execute_result"
        }
      ],
      "source": [
        "train_df= pd.DataFrame(train_samples)\n",
        "val_df= pd.DataFrame(val_samples)\n",
        "test_df= pd.DataFrame(test_samples)\n",
        "\n",
        "train_df.head()\n"
      ]
    },
    {
      "cell_type": "code",
      "execution_count": null,
      "metadata": {
        "colab": {
          "base_uri": "https://localhost:8080/"
        },
        "id": "QvYhTxyv5nAg",
        "outputId": "9a9611df-74ef-450d-9fb6-a2b2fe9d4c75"
      },
      "outputs": [
        {
          "data": {
            "text/plain": [
              "METHODS        59353\n",
              "RESULTS        57953\n",
              "CONCLUSIONS    27168\n",
              "BACKGROUND     21727\n",
              "OBJECTIVE      13839\n",
              "Name: target, dtype: int64"
            ]
          },
          "execution_count": 14,
          "metadata": {},
          "output_type": "execute_result"
        }
      ],
      "source": [
        "train_df.target.value_counts()"
      ]
    },
    {
      "cell_type": "markdown",
      "metadata": {
        "id": "nB0yYOmgdvQt"
      },
      "source": [
        "### Exploratory Data Analysis Of Our Data"
      ]
    },
    {
      "cell_type": "code",
      "execution_count": null,
      "metadata": {
        "colab": {
          "base_uri": "https://localhost:8080/",
          "height": 564
        },
        "id": "nJggk2bV5nDE",
        "outputId": "8d4d81dd-c6db-4fac-b696-9d9e25a1c632"
      },
      "outputs": [
        {
          "data": {
            "image/png": "[encoded data removed]",
            "text/plain": [
              "<Figure size 800x600 with 1 Axes>"
            ]
          },
          "metadata": {},
          "output_type": "display_data"
        }
      ],
      "source": [
        "## Histogram of Target Frequencies\n",
        "\n",
        "\n",
        "unique, counts = np.unique(train_df.target, return_counts=True)\n",
        "target_counts = dict(zip(unique, counts))\n",
        "\n",
        "plt.figure(figsize=(8, 6))\n",
        "plt.bar(target_counts.keys(), target_counts.values(), color='skyblue')\n",
        "plt.xlabel('Target Values')\n",
        "plt.ylabel('Frequency')\n",
        "plt.title('Histogram of Target Variable Frequencies')\n",
        "plt.xticks(unique)\n",
        "plt.grid(axis='y')\n",
        "plt.show()"
      ]
    },
    {
      "cell_type": "code",
      "execution_count": null,
      "metadata": {
        "colab": {
          "base_uri": "https://localhost:8080/",
          "height": 564
        },
        "id": "S6iEVF4S5nFU",
        "outputId": "fe183dd7-f141-450e-824e-8b4bf424f7ac"
      },
      "outputs": [
        {
          "data": {
            "image/png": "[encoded data removed]",
            "text/plain": [
              "<Figure size 800x600 with 1 Axes>"
            ]
          },
          "metadata": {},
          "output_type": "display_data"
        }
      ],
      "source": [
        "# Distribution Of Total Lines\n",
        "# Could be useful for Positional Encoding\n",
        "\n",
        "plt.figure(figsize=(8, 6))\n",
        "plt.hist(train_df.total_lines, bins=range(1, 21), edgecolor='black', color='lightgreen')\n",
        "plt.xlabel('total lines Value')\n",
        "plt.ylabel('Frequency')\n",
        "plt.title('Histogram of total lines Distribution')\n",
        "plt.xticks(range(1, 21))\n",
        "plt.grid(axis='y')\n",
        "plt.show()"
      ]
    },
    {
      "cell_type": "code",
      "execution_count": null,
      "metadata": {
        "colab": {
          "base_uri": "https://localhost:8080/",
          "height": 564
        },
        "id": "flSVYPR5Aw80",
        "outputId": "fccd7a37-9ac0-4c7a-af94-dd5676f9f8c1"
      },
      "outputs": [
        {
          "data": {
            "image/png": "[encoded data removed]",
            "text/plain": [
              "<Figure size 800x600 with 1 Axes>"
            ]
          },
          "metadata": {},
          "output_type": "display_data"
        }
      ],
      "source": [
        "# Calculating the 98th percentile for total lines\n",
        "# This will determine the length of the positional Embedding of total lines\n",
        "\n",
        "percentile_98 = np.percentile(train_df.total_lines, 98)\n",
        "\n",
        "# Plotting the histogram of total lines\n",
        "plt.figure(figsize=(8, 6))\n",
        "plt.hist(train_df.total_lines, bins=range(1, max(train_df.total_lines) + 2), edgecolor='black', color='purple')\n",
        "plt.axvline(percentile_98, color='red', linestyle='dashed', linewidth=2, label=f'98th Percentile: {percentile_98}')\n",
        "plt.xlabel('Number of Lines')\n",
        "plt.ylabel('Frequency')\n",
        "plt.title('Histogram of total lines with 98th Percentile')\n",
        "plt.xticks(range(1, max(train_df.total_lines) + 1))\n",
        "plt.legend()\n",
        "plt.grid(axis='y')\n",
        "plt.show()"
      ]
    },
    {
      "cell_type": "code",
      "execution_count": null,
      "metadata": {
        "colab": {
          "base_uri": "https://localhost:8080/",
          "height": 564
        },
        "id": "-wuCvZXbCIZE",
        "outputId": "38af4564-66e1-4a52-c73e-d454dff11e29"
      },
      "outputs": [
        {
          "data": {
            "image/png": "[encoded data removed]",
            "text/plain": [
              "<Figure size 800x600 with 1 Axes>"
            ]
          },
          "metadata": {},
          "output_type": "display_data"
        }
      ],
      "source": [
        "# Distribution of Line number variations\n",
        "\n",
        "plt.figure(figsize=(8, 6))\n",
        "plt.hist(train_df.line_number, bins=range(1, 21), edgecolor='black', color='orange')\n",
        "plt.xlabel('total lines Value')\n",
        "plt.ylabel('Frequency')\n",
        "plt.title('Histogram of line number Distribution')\n",
        "plt.xticks(range(1, 21))\n",
        "plt.grid(axis='y')\n",
        "plt.show()"
      ]
    },
    {
      "cell_type": "code",
      "execution_count": null,
      "metadata": {
        "colab": {
          "base_uri": "https://localhost:8080/",
          "height": 564
        },
        "id": "PVIapg11CIZM",
        "outputId": "b4ed273b-52dc-43c0-eaae-2e3851b5852f"
      },
      "outputs": [
        {
          "data": {
            "image/png": "[encoded data removed]",
            "text/plain": [
              "<Figure size 800x600 with 1 Axes>"
            ]
          },
          "metadata": {},
          "output_type": "display_data"
        }
      ],
      "source": [
        "# Calculating the 98th percentile for line number\n",
        "# This will determine the length of the positional Embedding of Line Number\n",
        "percentile_98 = np.percentile(train_df.line_number, 98)\n",
        "\n",
        "# Plotting the histogram of line number\n",
        "plt.figure(figsize=(8, 6))\n",
        "plt.hist(train_df.line_number, bins=range(1, max(train_df.line_number) + 2), edgecolor='black', color='blue')\n",
        "plt.axvline(percentile_98, color='red', linestyle='dashed', linewidth=2, label=f'98th Percentile: {percentile_98}')\n",
        "plt.xlabel('Number of Lines')\n",
        "plt.ylabel('Frequency')\n",
        "plt.title('Histogram of line number with 98th Percentile')\n",
        "plt.xticks(range(1, max(train_df.line_number) + 1))\n",
        "plt.legend()\n",
        "plt.grid(axis='y')\n",
        "plt.show()"
      ]
    },
    {
      "cell_type": "code",
      "execution_count": null,
      "metadata": {
        "colab": {
          "base_uri": "https://localhost:8080/",
          "height": 564
        },
        "id": "OmvyHPlnZ78L",
        "outputId": "3ea9b27f-9cfe-43f8-d652-6925ebcd24f7"
      },
      "outputs": [
        {
          "data": {
            "image/png": "[encoded data removed]",
            "text/plain": [
              "<Figure size 1000x600 with 1 Axes>"
            ]
          },
          "metadata": {},
          "output_type": "display_data"
        }
      ],
      "source": [
        "# Comparision of the distribution of the Total line by Target categories\n",
        "# this diffrence in distribution indicates that positional embedding can affect significantly the classification\n",
        "\n",
        "unique_targets = train_df['target'].unique()\n",
        "\n",
        "plt.figure(figsize=(10, 6))\n",
        "\n",
        "# Plotting histograms for each unique target on the same plot\n",
        "for target in unique_targets:\n",
        "    subset = train_df[train_df['target'] == target]['total_lines']\n",
        "    plt.hist(subset, bins=range(0, 30), alpha=0.5, label=f'{target}', edgecolor='black')\n",
        "\n",
        "# Adding labels, title, and legend\n",
        "plt.xlabel('Total Lines')\n",
        "plt.ylabel('Frequency')\n",
        "plt.title('Distribution of Total Lines for Each Category')\n",
        "plt.xticks(range(0, 30))\n",
        "plt.legend()\n",
        "plt.grid(axis='y')\n",
        "\n",
        "plt.show()"
      ]
    },
    {
      "cell_type": "code",
      "execution_count": null,
      "metadata": {
        "colab": {
          "base_uri": "https://localhost:8080/"
        },
        "id": "EWKd2QgfYxsM",
        "outputId": "4a2eccd7-778f-4f39-cbcd-b7f4b357e562"
      },
      "outputs": [
        {
          "name": "stdout",
          "output_type": "stream",
          "text": [
            "180040 30212 30135\n"
          ]
        }
      ],
      "source": [
        "# convert the text into lists\n",
        "\n",
        "train_sentences= train_df[\"text\"].tolist()\n",
        "val_sentences= val_df[\"text\"].tolist()\n",
        "test_sentences= test_df[\"text\"].tolist()\n",
        "\n",
        "print(len(train_sentences),len(val_sentences),len(test_sentences))"
      ]
    },
    {
      "cell_type": "code",
      "execution_count": null,
      "metadata": {
        "colab": {
          "base_uri": "https://localhost:8080/"
        },
        "id": "UvhD-y-gYxup",
        "outputId": "f2659450-1397-49df-f6f5-eef216239c53"
      },
      "outputs": [
        {
          "data": {
            "text/plain": [
              "['to investigate the efficacy of @ weeks of daily low-dose oral prednisolone in improving pain , mobility , and systemic low-grade inflammation in the short term and whether the effect would be sustained at @ weeks in older adults with moderate to severe knee osteoarthritis ( oa ) .',\n",
              " 'a total of @ patients with primary knee oa were randomized @:@ ; @ received @ mg/day of prednisolone and @ received placebo for @ weeks .',\n",
              " 'outcome measures included pain reduction and improvement in function scores and systemic inflammation markers .',\n",
              " 'pain was assessed using the visual analog pain scale ( @-@ mm ) .',\n",
              " 'secondary outcome measures included the western ontario and mcmaster universities osteoarthritis index scores , patient global assessment ( pga ) of the severity of knee oa , and @-min walk distance ( @mwd ) .']"
            ]
          },
          "execution_count": 22,
          "metadata": {},
          "output_type": "execute_result"
        }
      ],
      "source": [
        "train_sentences[0:5]"
      ]
    },
    {
      "cell_type": "code",
      "execution_count": null,
      "metadata": {
        "id": "dX7W7H7mrmlk"
      },
      "outputs": [],
      "source": [
        "sentence_lengths = [len(sentence.split()) for sentence in train_sentences]"
      ]
    },
    {
      "cell_type": "code",
      "execution_count": null,
      "metadata": {
        "colab": {
          "base_uri": "https://localhost:8080/",
          "height": 564
        },
        "id": "b2CrRepirmjC",
        "outputId": "0354d654-0f5a-4413-b7f5-eaaa6ae81086"
      },
      "outputs": [
        {
          "data": {
            "image/png": "[encoded data removed]",
            "text/plain": [
              "<Figure size 800x600 with 1 Axes>"
            ]
          },
          "metadata": {},
          "output_type": "display_data"
        }
      ],
      "source": [
        "# Calculating the average sentence length\n",
        "average_length = np.mean(sentence_lengths)\n",
        "\n",
        "# Plotting the histogram of sentence lengths\n",
        "plt.figure(figsize=(8, 6))\n",
        "plt.hist(sentence_lengths, bins=range(1, max(sentence_lengths) + 2), edgecolor='black', color='teal')\n",
        "plt.axvline(average_length, color='red', linestyle='dashed', linewidth=2, label=f'Average Length: {average_length:.2f}')\n",
        "plt.xlabel('Number of Tokens')\n",
        "plt.ylabel('Frequency')\n",
        "plt.title('Histogram of Sentence Lengths with Average')\n",
        "plt.xticks(range(1, max(sentence_lengths) + 1))\n",
        "plt.legend()\n",
        "plt.grid(axis='y')\n",
        "plt.show()"
      ]
    },
    {
      "cell_type": "code",
      "execution_count": null,
      "metadata": {
        "colab": {
          "base_uri": "https://localhost:8080/",
          "height": 564
        },
        "id": "kEdOA5KrrmJu",
        "outputId": "5cce522a-c682-40a6-c688-078f3efa52ff"
      },
      "outputs": [
        {
          "data": {
            "image/png": "[encoded data removed]",
            "text/plain": [
              "<Figure size 800x600 with 1 Axes>"
            ]
          },
          "metadata": {},
          "output_type": "display_data"
        }
      ],
      "source": [
        "# Calculating the 95th percentile for sentence lengths\n",
        "# this will help us determine the length of the token embedding\n",
        "\n",
        "percentile_95 = np.percentile(sentence_lengths, 95)\n",
        "\n",
        "# Plotting the histogram of sentence lengths\n",
        "plt.figure(figsize=(8, 6))\n",
        "plt.hist(sentence_lengths, bins=range(1, max(sentence_lengths) + 2), edgecolor='black', color='purple')\n",
        "plt.axvline(percentile_95, color='red', linestyle='dashed', linewidth=2, label=f'95th Percentile: {percentile_95}')\n",
        "plt.xlabel('Number of Tokens')\n",
        "plt.ylabel('Frequency')\n",
        "plt.title('Histogram of Sentence Lengths with 95th Percentile')\n",
        "plt.xticks(range(1, max(sentence_lengths) + 1))\n",
        "plt.legend()\n",
        "plt.grid(axis='y')\n",
        "plt.show()"
      ]
    },
    {
      "cell_type": "code",
      "execution_count": null,
      "metadata": {
        "colab": {
          "base_uri": "https://localhost:8080/"
        },
        "id": "D3D1NMy_tzhx",
        "outputId": "84b1dfab-c7ce-45ac-95c7-4a1c385aa910"
      },
      "outputs": [
        {
          "data": {
            "text/plain": [
              "296"
            ]
          },
          "execution_count": 26,
          "metadata": {},
          "output_type": "execute_result"
        }
      ],
      "source": [
        "max_seq_len=max(len(sentence.split()) for sentence in train_sentences)\n",
        "max_seq_len"
      ]
    },
    {
      "cell_type": "markdown",
      "metadata": {
        "id": "boanM3gDgpRs"
      },
      "source": [
        "### Convert Targets Into Numerical Format"
      ]
    },
    {
      "cell_type": "code",
      "execution_count": null,
      "metadata": {
        "colab": {
          "base_uri": "https://localhost:8080/"
        },
        "id": "8lYVfAvqgo24",
        "outputId": "462037f7-ab98-49ea-c5b9-000e34973976"
      },
      "outputs": [
        {
          "data": {
            "text/plain": [
              "array([3, 2, 2, 2, 2])"
            ]
          },
          "execution_count": 27,
          "metadata": {},
          "output_type": "execute_result"
        }
      ],
      "source": [
        "label_encoder= LabelEncoder()\n",
        "\n",
        "train_target_num = label_encoder.fit_transform(train_df[\"target\"].to_numpy())\n",
        "val_target_num = label_encoder.fit_transform(val_df[\"target\"].to_numpy())\n",
        "test_target_num = label_encoder.fit_transform(test_df[\"target\"].to_numpy())\n",
        "\n",
        "train_target_num[0:5]"
      ]
    },
    {
      "cell_type": "markdown",
      "metadata": {
        "id": "wbx4L5bSdOM8"
      },
      "source": [
        "### One Hot Encode The Target Variable"
      ]
    },
    {
      "cell_type": "code",
      "execution_count": null,
      "metadata": {
        "id": "xWF9rnpOYxw8"
      },
      "outputs": [],
      "source": [
        "one_hot_encoder= OneHotEncoder( sparse_output=False)"
      ]
    },
    {
      "cell_type": "code",
      "execution_count": null,
      "metadata": {
        "colab": {
          "base_uri": "https://localhost:8080/"
        },
        "id": "izkCDhSrb2dW",
        "outputId": "9b95ddaf-806a-4503-e9fe-159ce6065506"
      },
      "outputs": [
        {
          "data": {
            "text/plain": [
              "array([[0., 0., 0., 1., 0.],\n",
              "       [0., 0., 1., 0., 0.],\n",
              "       [0., 0., 1., 0., 0.],\n",
              "       [0., 0., 1., 0., 0.],\n",
              "       [0., 0., 1., 0., 0.]])"
            ]
          },
          "execution_count": 29,
          "metadata": {},
          "output_type": "execute_result"
        }
      ],
      "source": [
        "train_target_one_hot_encoded= one_hot_encoder.fit_transform(train_df[\"target\"].to_numpy().reshape(-1,1))\n",
        "train_target_one_hot_encoded[0:5]"
      ]
    },
    {
      "cell_type": "code",
      "execution_count": null,
      "metadata": {
        "colab": {
          "base_uri": "https://localhost:8080/"
        },
        "id": "n6NvWpvKYxzg",
        "outputId": "433feb25-f239-4c67-e4f3-681f8cdc4288"
      },
      "outputs": [
        {
          "data": {
            "text/plain": [
              "(180040, 5)"
            ]
          },
          "execution_count": 30,
          "metadata": {},
          "output_type": "execute_result"
        }
      ],
      "source": [
        "train_target_one_hot_encoded.shape"
      ]
    },
    {
      "cell_type": "code",
      "execution_count": null,
      "metadata": {
        "colab": {
          "base_uri": "https://localhost:8080/"
        },
        "id": "PDiPsNAoYx13",
        "outputId": "1c385652-cd4a-45fa-c571-6598b4f76b9f"
      },
      "outputs": [
        {
          "data": {
            "text/plain": [
              "(30212, 5)"
            ]
          },
          "execution_count": 31,
          "metadata": {},
          "output_type": "execute_result"
        }
      ],
      "source": [
        "val_target_one_hot_encoded= one_hot_encoder.transform(val_df[\"target\"].to_numpy().reshape(-1,1))\n",
        "val_target_one_hot_encoded.shape"
      ]
    },
    {
      "cell_type": "code",
      "execution_count": null,
      "metadata": {
        "colab": {
          "base_uri": "https://localhost:8080/"
        },
        "id": "dwoPywDJYx4L",
        "outputId": "7be1f190-71a5-4736-ed6f-c5de8148f894"
      },
      "outputs": [
        {
          "data": {
            "text/plain": [
              "(30135, 5)"
            ]
          },
          "execution_count": 32,
          "metadata": {},
          "output_type": "execute_result"
        }
      ],
      "source": [
        "test_target_one_hot_encoded= one_hot_encoder.transform(test_df[\"target\"].to_numpy().reshape(-1,1))\n",
        "test_target_one_hot_encoded.shape"
      ]
    },
    {
      "cell_type": "markdown",
      "metadata": {
        "id": "5EZlC0CAhcRe"
      },
      "source": [
        "## Modelling"
      ]
    },
    {
      "cell_type": "markdown",
      "metadata": {
        "id": "Dgf2q_O4hgSr"
      },
      "source": [
        "### Naive Bayes TF-IDF Baseline Model"
      ]
    },
    {
      "cell_type": "code",
      "execution_count": null,
      "metadata": {
        "id": "wVawRypRgozs"
      },
      "outputs": [],
      "source": [
        "naive_bayes_model=Pipeline([\n",
        "    (\"tf-idf\", TfidfVectorizer()),\n",
        "    (\"classifier\", MultinomialNB())\n",
        "])"
      ]
    },
    {
      "cell_type": "code",
      "execution_count": null,
      "metadata": {
        "colab": {
          "base_uri": "https://localhost:8080/",
          "height": 126
        },
        "id": "EOn4xcYLgoxK",
        "outputId": "141a6f04-f527-4f67-cf03-7e9786244c88"
      },
      "outputs": [
        {
          "data": {
            "text/html": [
              "<style>#sk-container-id-1 {color: black;background-color: white;}#sk-container-id-1 pre{padding: 0;}#sk-container-id-1 div.sk-toggleable {background-color: white;}#sk-container-id-1 label.sk-toggleable__label {cursor: pointer;display: block;width: 100%;margin-bottom: 0;padding: 0.3em;box-sizing: border-box;text-align: center;}#sk-container-id-1 label.sk-toggleable__label-arrow:before {content: \"▸\";float: left;margin-right: 0.25em;color: #696969;}#sk-container-id-1 label.sk-toggleable__label-arrow:hover:before {color: black;}#sk-container-id-1 div.sk-estimator:hover label.sk-toggleable__label-arrow:before {color: black;}#sk-container-id-1 div.sk-toggleable__content {max-height: 0;max-width: 0;overflow: hidden;text-align: left;background-color: #f0f8ff;}#sk-container-id-1 div.sk-toggleable__content pre {margin: 0.2em;color: black;border-radius: 0.25em;background-color: #f0f8ff;}#sk-container-id-1 input.sk-toggleable__control:checked~div.sk-toggleable__content {max-height: 200px;max-width: 100%;overflow: auto;}#sk-container-id-1 input.sk-toggleable__control:checked~label.sk-toggleable__label-arrow:before {content: \"▾\";}#sk-container-id-1 div.sk-estimator input.sk-toggleable__control:checked~label.sk-toggleable__label {background-color: #d4ebff;}#sk-container-id-1 div.sk-label input.sk-toggleable__control:checked~label.sk-toggleable__label {background-color: #d4ebff;}#sk-container-id-1 input.sk-hidden--visually {border: 0;clip: rect(1px 1px 1px 1px);clip: rect(1px, 1px, 1px, 1px);height: 1px;margin: -1px;overflow: hidden;padding: 0;position: absolute;width: 1px;}#sk-container-id-1 div.sk-estimator {font-family: monospace;background-color: #f0f8ff;border: 1px dotted black;border-radius: 0.25em;box-sizing: border-box;margin-bottom: 0.5em;}#sk-container-id-1 div.sk-estimator:hover {background-color: #d4ebff;}#sk-container-id-1 div.sk-parallel-item::after {content: \"\";width: 100%;border-bottom: 1px solid gray;flex-grow: 1;}#sk-container-id-1 div.sk-label:hover label.sk-toggleable__label {background-color: #d4ebff;}#sk-container-id-1 div.sk-serial::before {content: \"\";position: absolute;border-left: 1px solid gray;box-sizing: border-box;top: 0;bottom: 0;left: 50%;z-index: 0;}#sk-container-id-1 div.sk-serial {display: flex;flex-direction: column;align-items: center;background-color: white;padding-right: 0.2em;padding-left: 0.2em;position: relative;}#sk-container-id-1 div.sk-item {position: relative;z-index: 1;}#sk-container-id-1 div.sk-parallel {display: flex;align-items: stretch;justify-content: center;background-color: white;position: relative;}#sk-container-id-1 div.sk-item::before, #sk-container-id-1 div.sk-parallel-item::before {content: \"\";position: absolute;border-left: 1px solid gray;box-sizing: border-box;top: 0;bottom: 0;left: 50%;z-index: -1;}#sk-container-id-1 div.sk-parallel-item {display: flex;flex-direction: column;z-index: 1;position: relative;background-color: white;}#sk-container-id-1 div.sk-parallel-item:first-child::after {align-self: flex-end;width: 50%;}#sk-container-id-1 div.sk-parallel-item:last-child::after {align-self: flex-start;width: 50%;}#sk-container-id-1 div.sk-parallel-item:only-child::after {width: 0;}#sk-container-id-1 div.sk-dashed-wrapped {border: 1px dashed gray;margin: 0 0.4em 0.5em 0.4em;box-sizing: border-box;padding-bottom: 0.4em;background-color: white;}#sk-container-id-1 div.sk-label label {font-family: monospace;font-weight: bold;display: inline-block;line-height: 1.2em;}#sk-container-id-1 div.sk-label-container {text-align: center;}#sk-container-id-1 div.sk-container {/* jupyter's `normalize.less` sets `[hidden] { display: none; }` but bootstrap.min.css set `[hidden] { display: none !important; }` so we also need the `!important` here to be able to override the default hidden behavior on the sphinx rendered scikit-learn.org. See: https://github.com/scikit-learn/scikit-learn/issues/21755 */display: inline-block !important;position: relative;}#sk-container-id-1 div.sk-text-repr-fallback {display: none;}</style><div id=\"sk-container-id-1\" class=\"sk-top-container\"><div class=\"sk-text-repr-fallback\"><pre>Pipeline(steps=[(&#x27;tf-idf&#x27;, TfidfVectorizer()), (&#x27;classifier&#x27;, MultinomialNB())])</pre><b>In a Jupyter environment, please rerun this cell to show the HTML representation or trust the notebook. <br />On GitHub, the HTML representation is unable to render, please try loading this page with nbviewer.org.</b></div><div class=\"sk-container\" hidden><div class=\"sk-item sk-dashed-wrapped\"><div class=\"sk-label-container\"><div class=\"sk-label sk-toggleable\"><input class=\"sk-toggleable__control sk-hidden--visually\" id=\"sk-estimator-id-1\" type=\"checkbox\" ><label for=\"sk-estimator-id-1\" class=\"sk-toggleable__label sk-toggleable__label-arrow\">Pipeline</label><div class=\"sk-toggleable__content\"><pre>Pipeline(steps=[(&#x27;tf-idf&#x27;, TfidfVectorizer()), (&#x27;classifier&#x27;, MultinomialNB())])</pre></div></div></div><div class=\"sk-serial\"><div class=\"sk-item\"><div class=\"sk-estimator sk-toggleable\"><input class=\"sk-toggleable__control sk-hidden--visually\" id=\"sk-estimator-id-2\" type=\"checkbox\" ><label for=\"sk-estimator-id-2\" class=\"sk-toggleable__label sk-toggleable__label-arrow\">TfidfVectorizer</label><div class=\"sk-toggleable__content\"><pre>TfidfVectorizer()</pre></div></div></div><div class=\"sk-item\"><div class=\"sk-estimator sk-toggleable\"><input class=\"sk-toggleable__control sk-hidden--visually\" id=\"sk-estimator-id-3\" type=\"checkbox\" ><label for=\"sk-estimator-id-3\" class=\"sk-toggleable__label sk-toggleable__label-arrow\">MultinomialNB</label><div class=\"sk-toggleable__content\"><pre>MultinomialNB()</pre></div></div></div></div></div></div></div>"
            ],
            "text/plain": [
              "Pipeline(steps=[('tf-idf', TfidfVectorizer()), ('classifier', MultinomialNB())])"
            ]
          },
          "execution_count": 34,
          "metadata": {},
          "output_type": "execute_result"
        }
      ],
      "source": [
        "naive_bayes_model.fit(X=train_sentences,y= train_target_num)"
      ]
    },
    {
      "cell_type": "code",
      "execution_count": null,
      "metadata": {
        "colab": {
          "base_uri": "https://localhost:8080/"
        },
        "id": "aUZjdea7gouw",
        "outputId": "af7e5684-e8f7-4660-e30e-a6aca2c70d38"
      },
      "outputs": [
        {
          "name": "stdout",
          "output_type": "stream",
          "text": [
            "Accuracy of Naive Bayes model: 72.18 %\n"
          ]
        }
      ],
      "source": [
        "accuracy_NV=naive_bayes_model.score(val_sentences,val_target_num)\n",
        "print (f\"Accuracy of Naive Bayes model: {round(accuracy_NV,4) * 100} %\")\n"
      ]
    },
    {
      "cell_type": "code",
      "execution_count": null,
      "metadata": {
        "colab": {
          "base_uri": "https://localhost:8080/"
        },
        "id": "xe2oO94sgosN",
        "outputId": "ca843593-7b8d-4564-80ab-8aa7c8778995"
      },
      "outputs": [
        {
          "data": {
            "text/plain": [
              "{'Accuracy': 72.18, 'Precision': 71.86, 'Recall': 72.18, 'F1': 69.89}"
            ]
          },
          "execution_count": 36,
          "metadata": {},
          "output_type": "execute_result"
        }
      ],
      "source": [
        "Y_pred_NVB=naive_bayes_model.predict(val_sentences)\n",
        "Results_NVB=calculate_results(y_true=val_target_num,y_pred= Y_pred_NVB)\n",
        "Results_NVB"
      ]
    },
    {
      "cell_type": "markdown",
      "metadata": {
        "id": "Ae63ctJ3x_0z"
      },
      "source": [
        "### Define TextVectorizer & Embedding Layers"
      ]
    },
    {
      "cell_type": "code",
      "execution_count": null,
      "metadata": {
        "id": "WsSLKBBLtlz4"
      },
      "outputs": [],
      "source": [
        "max_tokens= 68000 #value used from the paper\n",
        "max_length=55"
      ]
    },
    {
      "cell_type": "code",
      "execution_count": null,
      "metadata": {
        "id": "9oLXFUawwt8z"
      },
      "outputs": [],
      "source": [
        "text_vectorizer=TextVectorization(max_tokens=max_tokens,\n",
        "                            standardize='lower_and_strip_punctuation',\n",
        "                            split='whitespace',\n",
        "                            ngrams=None,\n",
        "                            output_mode='int',\n",
        "                            output_sequence_length=max_length,\n",
        "                            pad_to_max_tokens=True)\n",
        "text_vectorizer.adapt(train_sentences)\n"
      ]
    },
    {
      "cell_type": "code",
      "execution_count": null,
      "metadata": {
        "colab": {
          "base_uri": "https://localhost:8080/"
        },
        "id": "FU2Qao4txkOM",
        "outputId": "cfe1576f-b30f-4afd-b9e7-1daf90fcb1a0"
      },
      "outputs": [
        {
          "name": "stdout",
          "output_type": "stream",
          "text": [
            "Text:\n",
            "there were no significant differences in the incidence of hypoglycemia or the weight change between the two groups ( p > @ ) .\n",
            "\n",
            "Length of text: 24\n",
            "\n",
            "Vectorized text:\n",
            "[[  61    9   33   37  102    5    2  214    4 1835   16    2  174  133\n",
            "    30    2   51   24   14    0    0    0    0    0    0    0    0    0\n",
            "     0    0    0    0    0    0    0    0    0    0    0    0    0    0\n",
            "     0    0    0    0    0    0    0    0    0    0    0    0    0]]\n"
          ]
        }
      ],
      "source": [
        "# Test out text vectorizer\n",
        "import random\n",
        "target_sentence = random.choice(train_sentences)\n",
        "print(f\"Text:\\n{target_sentence}\")\n",
        "print(f\"\\nLength of text: {len(target_sentence.split())}\")\n",
        "print(f\"\\nVectorized text:\\n{text_vectorizer([target_sentence])}\")"
      ]
    },
    {
      "cell_type": "code",
      "execution_count": null,
      "metadata": {
        "colab": {
          "base_uri": "https://localhost:8080/"
        },
        "id": "O0NLOAFmxkB8",
        "outputId": "1e850c37-d327-4de8-e5a7-b7aaaf020cf7"
      },
      "outputs": [
        {
          "name": "stdout",
          "output_type": "stream",
          "text": [
            "Number of words in vocabulary: 64841\n",
            "Most common words in the vocabulary: ['', '[UNK]', 'the', 'and', 'of']\n",
            "Least common words in the vocabulary: ['aainduced', 'aaigroup', 'aachener', 'aachen', 'aaacp']\n"
          ]
        }
      ],
      "source": [
        "# How many words in our training vocabulary\n",
        "text_vocab = text_vectorizer.get_vocabulary()\n",
        "print(f\"Number of words in vocabulary: {len(text_vocab)}\"),\n",
        "print(f\"Most common words in the vocabulary: {text_vocab[:5]}\")\n",
        "print(f\"Least common words in the vocabulary: {text_vocab[-5:]}\")"
      ]
    },
    {
      "cell_type": "code",
      "execution_count": null,
      "metadata": {
        "colab": {
          "base_uri": "https://localhost:8080/"
        },
        "id": "Zkijbia_wtw_",
        "outputId": "e10236d1-2da1-4102-e80d-e108514a851f"
      },
      "outputs": [
        {
          "data": {
            "text/plain": [
              "{'name': 'text_vectorization',\n",
              " 'trainable': True,\n",
              " 'dtype': 'string',\n",
              " 'batch_input_shape': (None,),\n",
              " 'max_tokens': 68000,\n",
              " 'standardize': 'lower_and_strip_punctuation',\n",
              " 'split': 'whitespace',\n",
              " 'ngrams': None,\n",
              " 'output_mode': 'int',\n",
              " 'output_sequence_length': 55,\n",
              " 'pad_to_max_tokens': True,\n",
              " 'sparse': False,\n",
              " 'ragged': False,\n",
              " 'vocabulary': None,\n",
              " 'idf_weights': None,\n",
              " 'encoding': 'utf-8',\n",
              " 'vocabulary_size': 64841}"
            ]
          },
          "execution_count": 41,
          "metadata": {},
          "output_type": "execute_result"
        }
      ],
      "source": [
        "text_vectorizer.get_config()"
      ]
    },
    {
      "cell_type": "code",
      "execution_count": null,
      "metadata": {
        "id": "JQ9XmcMQyJUA"
      },
      "outputs": [],
      "source": [
        "embedding_layer=Embedding(input_dim=len(text_vocab),\n",
        "            output_dim=128,\n",
        "            mask_zero=True,\n",
        "            input_length=max_length)\n"
      ]
    },
    {
      "cell_type": "code",
      "execution_count": null,
      "metadata": {
        "colab": {
          "base_uri": "https://localhost:8080/"
        },
        "id": "Di80o92lyJQ5",
        "outputId": "2ca0509c-b92f-4100-93e7-4929cd2dfbfc"
      },
      "outputs": [
        {
          "name": "stdout",
          "output_type": "stream",
          "text": [
            "Sentence before vectorization:\n",
            "there were no significant differences in the incidence of hypoglycemia or the weight change between the two groups ( p > @ ) .\n",
            "\n",
            "Sentence after vectorization (before embedding):\n",
            "[[  61    9   33   37  102    5    2  214    4 1835   16    2  174  133\n",
            "    30    2   51   24   14    0    0    0    0    0    0    0    0    0\n",
            "     0    0    0    0    0    0    0    0    0    0    0    0    0    0\n",
            "     0    0    0    0    0    0    0    0    0    0    0    0    0]]\n",
            "\n",
            "Shape of the Vectorized Sentence \n",
            "(1, 55)\n",
            "\n",
            "Sentence after embedding:\n",
            "[[[ 0.04548587  0.03494114  0.04851853 ...  0.01404864 -0.01967831\n",
            "    0.03733596]\n",
            "  [ 0.0295229   0.02372776 -0.0498324  ... -0.00472339  0.02238658\n",
            "   -0.04251252]\n",
            "  [ 0.04407189  0.04516125 -0.04483546 ...  0.00530623  0.03944016\n",
            "   -0.02294847]\n",
            "  ...\n",
            "  [-0.02292869 -0.02020068 -0.03316237 ... -0.01782842 -0.01838033\n",
            "    0.01726868]\n",
            "  [-0.02292869 -0.02020068 -0.03316237 ... -0.01782842 -0.01838033\n",
            "    0.01726868]\n",
            "  [-0.02292869 -0.02020068 -0.03316237 ... -0.01782842 -0.01838033\n",
            "    0.01726868]]]\n",
            "\n",
            "Embedded sentence shape: (1, 55, 128)\n"
          ]
        }
      ],
      "source": [
        "# Show example embedding\n",
        "print(f\"Sentence before vectorization:\\n{target_sentence}\\n\")\n",
        "vectorized_sentence = text_vectorizer([target_sentence])\n",
        "print(f\"Sentence after vectorization (before embedding):\\n{vectorized_sentence}\\n\")\n",
        "print(f\"Shape of the Vectorized Sentence \\n{vectorized_sentence.shape}\\n\")\n",
        "embedded_sentence = embedding_layer(vectorized_sentence)\n",
        "print(f\"Sentence after embedding:\\n{embedded_sentence}\\n\")\n",
        "print(f\"Embedded sentence shape: {embedded_sentence.shape}\")"
      ]
    },
    {
      "cell_type": "markdown",
      "metadata": {
        "id": "PlmfEo1rzY9k"
      },
      "source": [
        "### Convert The Data Into Tf Dataset"
      ]
    },
    {
      "cell_type": "code",
      "execution_count": null,
      "metadata": {
        "colab": {
          "base_uri": "https://localhost:8080/"
        },
        "id": "XEiFf0vXyJN9",
        "outputId": "12b3781d-f163-4756-bc23-e2a848115e4f"
      },
      "outputs": [
        {
          "data": {
            "text/plain": [
              "<_TensorSliceDataset element_spec=(TensorSpec(shape=(), dtype=tf.string, name=None), TensorSpec(shape=(5,), dtype=tf.float64, name=None))>"
            ]
          },
          "execution_count": 44,
          "metadata": {},
          "output_type": "execute_result"
        }
      ],
      "source": [
        "# Turn our data into TensorFlow Datasets\n",
        "train_dataset = tf.data.Dataset.from_tensor_slices((train_sentences, train_target_one_hot_encoded))\n",
        "valid_dataset = tf.data.Dataset.from_tensor_slices((val_sentences, val_target_one_hot_encoded))\n",
        "test_dataset = tf.data.Dataset.from_tensor_slices((test_sentences, test_target_one_hot_encoded))\n",
        "\n",
        "train_dataset"
      ]
    },
    {
      "cell_type": "code",
      "execution_count": null,
      "metadata": {
        "id": "xVmeoEnByJJ1"
      },
      "outputs": [],
      "source": [
        "# Take the TensorSliceDataset's and turn them into prefetched batches\n",
        "train_dataset = train_dataset.batch(32).prefetch(tf.data.AUTOTUNE)\n",
        "valid_dataset = valid_dataset.batch(32).prefetch(tf.data.AUTOTUNE)\n",
        "test_dataset = test_dataset.batch(32).prefetch(tf.data.AUTOTUNE)\n"
      ]
    },
    {
      "cell_type": "code",
      "execution_count": null,
      "metadata": {
        "id": "5BuEjmlybR7V"
      },
      "outputs": [],
      "source": [
        "# Turn on mixed precision training\n",
        "\n",
        "tf.keras.mixed_precision.set_global_policy(policy=\"mixed_float16\") # set global policy to mixed precision"
      ]
    },
    {
      "cell_type": "code",
      "execution_count": null,
      "metadata": {
        "colab": {
          "base_uri": "https://localhost:8080/"
        },
        "id": "qzSWJP8KkKae",
        "outputId": "24354ad7-c9eb-4b2b-e726-8e9b765082e5"
      },
      "outputs": [
        {
          "data": {
            "text/plain": [
              "<Policy \"mixed_float16\">"
            ]
          },
          "execution_count": 47,
          "metadata": {},
          "output_type": "execute_result"
        }
      ],
      "source": [
        "tf.keras.mixed_precision.global_policy() # should output \"mixed_float16\""
      ]
    },
    {
      "cell_type": "markdown",
      "metadata": {
        "id": "uOaiB7QumfpP"
      },
      "source": [
        "### Conv1D Model"
      ]
    },
    {
      "cell_type": "code",
      "execution_count": null,
      "metadata": {
        "id": "gNkdi6M-gopf"
      },
      "outputs": [],
      "source": [
        "inputs= tf.keras.layers.Input(shape=(1,), dtype=tf.string)\n",
        "x=text_vectorizer(inputs)\n",
        "\n",
        "x=embedding_layer(x)\n",
        "\n",
        "x=tf.keras.layers.Conv1D(filters=32,kernel_size=5,strides=1,activation='relu',padding='same')(x)\n",
        "\n",
        "x=tf.keras.layers.GlobalAveragePooling1D()(x)\n",
        "\n",
        "x=tf.keras.layers.Dense(32,activation='relu')(x)\n",
        "\n",
        "outs=tf.keras.layers.Dense(5,activation='softmax')(x)\n",
        "\n",
        "Conv1D_model=tf.keras.Model(inputs,outs,name=\"Conv1D_model\")\n"
      ]
    },
    {
      "cell_type": "code",
      "execution_count": null,
      "metadata": {
        "colab": {
          "base_uri": "https://localhost:8080/"
        },
        "id": "NuJitj8dgom_",
        "outputId": "b0b32fa6-91f2-4e55-b82b-2d3a2d688a49"
      },
      "outputs": [
        {
          "name": "stdout",
          "output_type": "stream",
          "text": [
            "Model: \"Conv1D_model\"\n",
            "_________________________________________________________________\n",
            " Layer (type)                Output Shape              Param #   \n",
            "=================================================================\n",
            " input_1 (InputLayer)        [(None, 1)]               0         \n",
            "                                                                 \n",
            " text_vectorization (TextVe  (None, 55)                0         \n",
            " ctorization)                                                    \n",
            "                                                                 \n",
            " embedding (Embedding)       (None, 55, 128)           8299648   \n",
            "                                                                 \n",
            " conv1d (Conv1D)             (None, 55, 32)            20512     \n",
            "                                                                 \n",
            " global_average_pooling1d (  (None, 32)                0         \n",
            " GlobalAveragePooling1D)                                         \n",
            "                                                                 \n",
            " dense (Dense)               (None, 32)                1056      \n",
            "                                                                 \n",
            " dense_1 (Dense)             (None, 5)                 165       \n",
            "                                                                 \n",
            "=================================================================\n",
            "Total params: 8321381 (31.74 MB)\n",
            "Trainable params: 8321381 (31.74 MB)\n",
            "Non-trainable params: 0 (0.00 Byte)\n",
            "_________________________________________________________________\n"
          ]
        }
      ],
      "source": [
        "Conv1D_model.summary()"
      ]
    },
    {
      "cell_type": "code",
      "execution_count": null,
      "metadata": {
        "id": "A0_9_Mwbgokr"
      },
      "outputs": [],
      "source": [
        "Conv1D_model.compile(loss=\"categorical_crossentropy\",\n",
        "                    optimizer=tf.keras.optimizers.Adam(),\n",
        "                    metrics=[\"accuracy\"])"
      ]
    },
    {
      "cell_type": "code",
      "execution_count": null,
      "metadata": {
        "id": "LOuB_CyazuGk"
      },
      "outputs": [],
      "source": [
        "callback_early_stopping = tf.keras.callbacks.EarlyStopping(monitor='val_loss', patience=3,restore_best_weights=True)"
      ]
    },
    {
      "cell_type": "code",
      "execution_count": null,
      "metadata": {
        "colab": {
          "base_uri": "https://localhost:8080/"
        },
        "id": "MpWn6H7DgoiB",
        "outputId": "a48e566e-f130-4a3a-a8c2-e4a89bcb4a83"
      },
      "outputs": [
        {
          "name": "stdout",
          "output_type": "stream",
          "text": [
            "Epoch 1/50\n",
            "5627/5627 [==============================] - 65s 11ms/step - loss: 0.6241 - accuracy: 0.7642 - val_loss: 0.5283 - val_accuracy: 0.8068\n",
            "Epoch 2/50\n",
            "5627/5627 [==============================] - 40s 7ms/step - loss: 0.4528 - accuracy: 0.8362 - val_loss: 0.5121 - val_accuracy: 0.8128\n",
            "Epoch 3/50\n",
            "5627/5627 [==============================] - 45s 8ms/step - loss: 0.3673 - accuracy: 0.8708 - val_loss: 0.5448 - val_accuracy: 0.8108\n",
            "Epoch 4/50\n",
            "5627/5627 [==============================] - 44s 8ms/step - loss: 0.2979 - accuracy: 0.8981 - val_loss: 0.6038 - val_accuracy: 0.8069\n",
            "Epoch 5/50\n",
            "5627/5627 [==============================] - 60s 11ms/step - loss: 0.2382 - accuracy: 0.9206 - val_loss: 0.7146 - val_accuracy: 0.7992\n"
          ]
        }
      ],
      "source": [
        "history_conv1d=Conv1D_model.fit(train_dataset,validation_data=valid_dataset,epochs=50,callbacks=[callback_early_stopping])"
      ]
    },
    {
      "cell_type": "code",
      "execution_count": null,
      "metadata": {
        "colab": {
          "base_uri": "https://localhost:8080/"
        },
        "id": "7tCq2YIEgodZ",
        "outputId": "0bfeccf9-f5b9-4ff1-f140-0080f701abd3"
      },
      "outputs": [
        {
          "name": "stdout",
          "output_type": "stream",
          "text": [
            "945/945 [==============================] - 26s 4ms/step\n"
          ]
        },
        {
          "data": {
            "text/plain": [
              "{'Accuracy': 81.28, 'Precision': 81.07, 'Recall': 81.28, 'F1': 81.03}"
            ]
          },
          "execution_count": 53,
          "metadata": {},
          "output_type": "execute_result"
        }
      ],
      "source": [
        "Y_pred_Conv1D=tf.argmax(Conv1D_model.predict(valid_dataset),axis=1)\n",
        "Conv1D_results=calculate_results(y_true=val_target_num,y_pred=Y_pred_Conv1D)\n",
        "Conv1D_results"
      ]
    },
    {
      "cell_type": "markdown",
      "metadata": {
        "id": "zgkkCI_UPymM"
      },
      "source": [
        "### Universal Sentence Encoder Feature Extractor Model"
      ]
    },
    {
      "cell_type": "code",
      "execution_count": null,
      "metadata": {
        "id": "LVUtxazYgoa2"
      },
      "outputs": [],
      "source": [
        "embeddings = hub.load(\"https://www.kaggle.com/models/google/universal-sentence-encoder/frameworks/TensorFlow2/variations/universal-sentence-encoder/versions/2\")"
      ]
    },
    {
      "cell_type": "code",
      "execution_count": null,
      "metadata": {
        "colab": {
          "base_uri": "https://localhost:8080/"
        },
        "id": "yDHr5_sQYx6o",
        "outputId": "d86d5a9d-de92-43f5-e2e4-1619ed3b89aa"
      },
      "outputs": [
        {
          "name": "stdout",
          "output_type": "stream",
          "text": [
            "['Sample_sentence','I Love NLP' ===> [[ 0.04420857  0.0201424   0.0160574  ... -0.01345796 -0.00438032\n",
            "  -0.06364231]\n",
            " [ 0.04771781  0.0136025  -0.0416104  ...  0.04108614 -0.00541196\n",
            "  -0.07477576]]\n",
            "Shape  Sample_sentence : (512,)\n",
            "Shape I Love NLP: (512,)\n"
          ]
        }
      ],
      "source": [
        "embed = embeddings([\n",
        "    \"Sample_sentence\",\n",
        "    \"I Love NLP \"])\n",
        "\n",
        "print(f\"['Sample_sentence','I Love NLP' ===> {embed}\")\n",
        "print(f'Shape  Sample_sentence : {embed[0].shape}')\n",
        "print(f'Shape I Love NLP: {embed[1].shape}')\n"
      ]
    },
    {
      "cell_type": "code",
      "execution_count": null,
      "metadata": {
        "id": "VhZAoQeRTInr"
      },
      "outputs": [],
      "source": [
        "USE_layer=hub.KerasLayer(\"https://www.kaggle.com/models/google/universal-sentence-encoder/frameworks/TensorFlow2/variations/universal-sentence-encoder/versions/2\",\n",
        "                         trainable=False,\n",
        "                         name='USE')"
      ]
    },
    {
      "cell_type": "code",
      "execution_count": null,
      "metadata": {
        "colab": {
          "base_uri": "https://localhost:8080/"
        },
        "id": "39IoOzXNYx85",
        "outputId": "fc089694-4625-4396-d1c9-af0423193cea"
      },
      "outputs": [
        {
          "name": "stdout",
          "output_type": "stream",
          "text": [
            "Model: \"model_USE_feature_extractor\"\n",
            "_________________________________________________________________\n",
            " Layer (type)                Output Shape              Param #   \n",
            "=================================================================\n",
            " input_2 (InputLayer)        [(None,)]                 0         \n",
            "                                                                 \n",
            " USE (KerasLayer)            (None, 512)               256797824 \n",
            "                                                                 \n",
            " dense_2 (Dense)             (None, 64)                32832     \n",
            "                                                                 \n",
            " dense_3 (Dense)             (None, 5)                 325       \n",
            "                                                                 \n",
            "=================================================================\n",
            "Total params: 256830981 (979.73 MB)\n",
            "Trainable params: 33157 (129.52 KB)\n",
            "Non-trainable params: 256797824 (979.61 MB)\n",
            "_________________________________________________________________\n"
          ]
        }
      ],
      "source": [
        "inputs=tf.keras.layers.Input(shape=[],dtype=tf.string)\n",
        "\n",
        "x=USE_layer(inputs)\n",
        "\n",
        "x=tf.keras.layers.Dense(64,activation='relu')(x)\n",
        "\n",
        "outputs=tf.keras.layers.Dense(5,activation='softmax')(x)\n",
        "\n",
        "model_USE=tf.keras.Model(inputs,outputs,name='model_USE_feature_extractor')\n",
        "\n",
        "model_USE.summary()"
      ]
    },
    {
      "cell_type": "code",
      "execution_count": null,
      "metadata": {
        "id": "6UlIW1HDUJQS"
      },
      "outputs": [],
      "source": [
        "history_USE=model_USE.compile(loss=\"categorical_crossentropy\",\n",
        "                    optimizer=tf.keras.optimizers.Adam(),\n",
        "                    metrics=[\"accuracy\"])"
      ]
    },
    {
      "cell_type": "code",
      "execution_count": null,
      "metadata": {
        "colab": {
          "base_uri": "https://localhost:8080/"
        },
        "id": "md1RlrKqUJQU",
        "outputId": "6bb7da07-d7c9-4533-fabd-769562f62275"
      },
      "outputs": [
        {
          "name": "stdout",
          "output_type": "stream",
          "text": [
            "Epoch 1/3\n",
            "5627/5627 [==============================] - 109s 18ms/step - loss: 0.7549 - accuracy: 0.7110 - val_loss: 0.6827 - val_accuracy: 0.7391\n",
            "Epoch 2/3\n",
            "5627/5627 [==============================] - 76s 14ms/step - loss: 0.6609 - accuracy: 0.7487 - val_loss: 0.6428 - val_accuracy: 0.7547\n",
            "Epoch 3/3\n",
            "5627/5627 [==============================] - 97s 17ms/step - loss: 0.6278 - accuracy: 0.7615 - val_loss: 0.6250 - val_accuracy: 0.7614\n"
          ]
        },
        {
          "data": {
            "text/plain": [
              "<keras.src.callbacks.History at 0x78469bb68e20>"
            ]
          },
          "execution_count": 59,
          "metadata": {},
          "output_type": "execute_result"
        }
      ],
      "source": [
        "model_USE.fit(train_dataset,validation_data=valid_dataset,epochs=3)"
      ]
    },
    {
      "cell_type": "code",
      "execution_count": null,
      "metadata": {
        "colab": {
          "base_uri": "https://localhost:8080/"
        },
        "id": "KJNdYipxUPeb",
        "outputId": "318656c1-c044-4be8-a567-682edaa1ef00"
      },
      "outputs": [
        {
          "name": "stdout",
          "output_type": "stream",
          "text": [
            "945/945 [==============================] - 10s 10ms/step\n"
          ]
        },
        {
          "data": {
            "text/plain": [
              "{'Accuracy': 76.14, 'Precision': 75.87, 'Recall': 76.14, 'F1': 75.69}"
            ]
          },
          "execution_count": 60,
          "metadata": {},
          "output_type": "execute_result"
        }
      ],
      "source": [
        "Y_pred_USE=tf.argmax(model_USE.predict(valid_dataset),axis=1)\n",
        "USE_results=calculate_results(y_true=val_target_num,y_pred=Y_pred_USE)\n",
        "USE_results"
      ]
    },
    {
      "cell_type": "markdown",
      "metadata": {
        "id": "YzCus6CwX-2d"
      },
      "source": [
        "### Charcter Level Embeddings Layer"
      ]
    },
    {
      "cell_type": "code",
      "execution_count": null,
      "metadata": {
        "colab": {
          "base_uri": "https://localhost:8080/",
          "height": 35
        },
        "id": "-St9iSSWYnmz",
        "outputId": "b6f46b00-7d64-4271-fdf0-254fd5eb5b9d"
      },
      "outputs": [
        {
          "data": {
            "application/vnd.google.colaboratory.intrinsic+json": {
              "type": "string"
            },
            "text/plain": [
              "'I   L o v e   N L P'"
            ]
          },
          "execution_count": 61,
          "metadata": {},
          "output_type": "execute_result"
        }
      ],
      "source": [
        "# Make function to split sentences into characters\n",
        "def split_chars(text):\n",
        "  return \" \".join(list(text))\n",
        "\n",
        "# Test splitting non-character-level sequence into characters\n",
        "split_chars(\"I Love NLP\")"
      ]
    },
    {
      "cell_type": "code",
      "execution_count": null,
      "metadata": {
        "colab": {
          "base_uri": "https://localhost:8080/"
        },
        "id": "1MIKv0gDaStS",
        "outputId": "cddb77ba-8d80-4638-d261-2bedb803bdbe"
      },
      "outputs": [
        {
          "name": "stdout",
          "output_type": "stream",
          "text": [
            "t o   i n v e s t i g a t e   t h e   e f f i c a c y   o f   @   w e e k s   o f   d a i l y   l o w - d o s e   o r a l   p r e d n i s o l o n e   i n   i m p r o v i n g   p a i n   ,   m o b i l i t y   ,   a n d   s y s t e m i c   l o w - g r a d e   i n f l a m m a t i o n   i n   t h e   s h o r t   t e r m   a n d   w h e t h e r   t h e   e f f e c t   w o u l d   b e   s u s t a i n e d   a t   @   w e e k s   i n   o l d e r   a d u l t s   w i t h   m o d e r a t e   t o   s e v e r e   k n e e   o s t e o a r t h r i t i s   (   o a   )   .\n"
          ]
        }
      ],
      "source": [
        "# Split sequence-level data splits into character-level data splits\n",
        "train_chars = [split_chars(sentence) for sentence in train_sentences]\n",
        "val_chars = [split_chars(sentence) for sentence in val_sentences]\n",
        "test_chars = [split_chars(sentence) for sentence in test_sentences]\n",
        "print(train_chars[0])"
      ]
    },
    {
      "cell_type": "code",
      "execution_count": null,
      "metadata": {
        "colab": {
          "base_uri": "https://localhost:8080/"
        },
        "id": "iXX52R7iYnjv",
        "outputId": "ed6203f7-9a4e-40bc-e4ba-348dbec8b782"
      },
      "outputs": [
        {
          "data": {
            "text/plain": [
              "149.3662574983337"
            ]
          },
          "execution_count": 63,
          "metadata": {},
          "output_type": "execute_result"
        }
      ],
      "source": [
        "char_lens = [len(sentence) for sentence in train_sentences]\n",
        "mean_char_len = np.mean(char_lens)\n",
        "mean_char_len"
      ]
    },
    {
      "cell_type": "code",
      "execution_count": null,
      "metadata": {
        "colab": {
          "base_uri": "https://localhost:8080/",
          "height": 564
        },
        "id": "Pjq7egIPZA_t",
        "outputId": "457eae42-1d87-454b-c200-72cc533a37a1"
      },
      "outputs": [
        {
          "data": {
            "image/png": "[encoded data removed]",
            "text/plain": [
              "<Figure size 800x600 with 1 Axes>"
            ]
          },
          "metadata": {},
          "output_type": "display_data"
        }
      ],
      "source": [
        "\n",
        "\n",
        "# Plotting the histogram of char lengths\n",
        "#\n",
        "plt.figure(figsize=(8, 6))\n",
        "plt.hist(char_lens, bins=range(1, max(char_lens) + 2), edgecolor='black', color='teal')\n",
        "plt.axvline(mean_char_len, color='red', linestyle='dashed', linewidth=2, label=f'Average Length: {mean_char_len:.2f}')\n",
        "plt.xlabel('Number of Tokens')\n",
        "plt.ylabel('Frequency')\n",
        "plt.title('Histogram of Character Lengths with Average')\n",
        "plt.xticks(range(1, max(char_lens) + 1))\n",
        "plt.legend()\n",
        "plt.grid(axis='y')\n",
        "plt.show()"
      ]
    },
    {
      "cell_type": "code",
      "execution_count": null,
      "metadata": {
        "colab": {
          "base_uri": "https://localhost:8080/",
          "height": 564
        },
        "id": "YYTG9pESZA_3",
        "outputId": "36f5cc6b-23b2-4bb3-82ef-d95ab2d135b8"
      },
      "outputs": [
        {
          "data": {
            "image/png": "[encoded data removed]",
            "text/plain": [
              "<Figure size 800x600 with 1 Axes>"
            ]
          },
          "metadata": {},
          "output_type": "display_data"
        }
      ],
      "source": [
        "# Calculating the 95th percentile for chars lengths\n",
        "#this can help us pick the appropriate length of the char embedding\n",
        "\n",
        "percentile_95 = np.percentile(char_lens, 95)\n",
        "\n",
        "# Plotting the histogram of character lengths\n",
        "plt.figure(figsize=(8, 6))\n",
        "plt.hist(char_lens, bins=range(1, max(char_lens) + 2), edgecolor='black', color='purple')\n",
        "plt.axvline(percentile_95, color='red', linestyle='dashed', linewidth=2, label=f'95th Percentile: {percentile_95}')\n",
        "plt.xlabel('Number of Tokens')\n",
        "plt.ylabel('Frequency')\n",
        "plt.title('Histogram of Character Lengths with 95th Percentile')\n",
        "plt.xticks(range(1, max(char_lens) + 1))\n",
        "plt.legend()\n",
        "plt.grid(axis='y')\n",
        "plt.show()"
      ]
    },
    {
      "cell_type": "code",
      "execution_count": null,
      "metadata": {
        "colab": {
          "base_uri": "https://localhost:8080/",
          "height": 35
        },
        "id": "QdiaTLdlYx_g",
        "outputId": "0c0ab8ac-5a55-4605-f772-30638773b22f"
      },
      "outputs": [
        {
          "data": {
            "application/vnd.google.colaboratory.intrinsic+json": {
              "type": "string"
            },
            "text/plain": [
              "'abcdefghijklmnopqrstuvwxyz0123456789!\"#$%&\\'()*+,-./:;<=>?@[\\\\]^_`{|}~'"
            ]
          },
          "execution_count": 66,
          "metadata": {},
          "output_type": "execute_result"
        }
      ],
      "source": [
        "import string\n",
        "alphabet = string.ascii_lowercase + string.digits + string.punctuation\n",
        "alphabet"
      ]
    },
    {
      "cell_type": "code",
      "execution_count": null,
      "metadata": {
        "id": "92YSHuo0ad8N"
      },
      "outputs": [],
      "source": [
        "output_seq_char_len=290"
      ]
    },
    {
      "cell_type": "code",
      "execution_count": null,
      "metadata": {
        "id": "JLiHP2R2YyCL"
      },
      "outputs": [],
      "source": [
        "num_char_token = len(alphabet) + 2 # num characters + 2 (space and OOV)\n",
        "char_vectorizer = TextVectorization(max_tokens=num_char_token,\n",
        "                                    output_sequence_length=output_seq_char_len,\n",
        "                                    standardize=\"lower_and_strip_punctuation\",\n",
        "                                    name=\"char_vectorizer\")\n",
        "\n",
        "# Adapt character vectorizer to training characters\n",
        "char_vectorizer.adapt(train_chars)"
      ]
    },
    {
      "cell_type": "code",
      "execution_count": null,
      "metadata": {
        "colab": {
          "base_uri": "https://localhost:8080/"
        },
        "id": "d6-b1yRIYyEa",
        "outputId": "1386f87d-64a6-4dec-8aef-4f4b74e63a92"
      },
      "outputs": [
        {
          "name": "stdout",
          "output_type": "stream",
          "text": [
            "Number of different characters in character vocab: 28\n",
            "5 most common characters: ['', '[UNK]', 'e', 't', 'i']\n",
            "5 least common characters: ['k', 'x', 'z', 'q', 'j']\n"
          ]
        }
      ],
      "source": [
        "char_vocab = char_vectorizer.get_vocabulary()\n",
        "print(f\"Number of different characters in character vocab: {len(char_vocab)}\")\n",
        "print(f\"5 most common characters: {char_vocab[:5]}\")\n",
        "print(f\"5 least common characters: {char_vocab[-5:]}\")"
      ]
    },
    {
      "cell_type": "code",
      "execution_count": null,
      "metadata": {
        "colab": {
          "base_uri": "https://localhost:8080/"
        },
        "id": "fnPpzX03YyGT",
        "outputId": "33ee94b2-9561-45df-e7c3-6c3389031b84"
      },
      "outputs": [
        {
          "name": "stdout",
          "output_type": "stream",
          "text": [
            "Charified text:\n",
            "t h e   m e d i a n   (   i n t e r q u a r t i l e   r a n g e   )   l o g   r e d u c t i o n s   i n   t h e   v i r a l   l o a d   a t   @   w e e k s   i n   t h e   @   a r m s   w e r e   s i m i l a r   a t   @   (   p   =   @   )   a n d   @   w e e k s   (   p   =   @   )   .\n",
            "\n",
            "Length of chars: 108\n",
            "\n",
            "Vectorized chars:\n",
            "[[ 3 13  2 15  2 10  4  5  6  4  6  3  2  8 26 16  5  8  3  4 12  2  8  5\n",
            "   6 18  2 12  7 18  8  2 10 16 11  3  4  7  6  9  4  6  3 13  2 21  4  8\n",
            "   5 12 12  7  5 10  5  3 20  2  2 23  9  4  6  3 13  2  5  8 15  9 20  2\n",
            "   8  2  9  4 15  4 12  5  8  5  3 14  5  6 10 20  2  2 23  9 14  0  0  0\n",
            "   0  0  0  0  0  0  0  0  0  0  0  0  0  0  0  0  0  0  0  0  0  0  0  0\n",
            "   0  0  0  0  0  0  0  0  0  0  0  0  0  0  0  0  0  0  0  0  0  0  0  0\n",
            "   0  0  0  0  0  0  0  0  0  0  0  0  0  0  0  0  0  0  0  0  0  0  0  0\n",
            "   0  0  0  0  0  0  0  0  0  0  0  0  0  0  0  0  0  0  0  0  0  0  0  0\n",
            "   0  0  0  0  0  0  0  0  0  0  0  0  0  0  0  0  0  0  0  0  0  0  0  0\n",
            "   0  0  0  0  0  0  0  0  0  0  0  0  0  0  0  0  0  0  0  0  0  0  0  0\n",
            "   0  0  0  0  0  0  0  0  0  0  0  0  0  0  0  0  0  0  0  0  0  0  0  0\n",
            "   0  0  0  0  0  0  0  0  0  0  0  0  0  0  0  0  0  0  0  0  0  0  0  0\n",
            "   0  0]]\n",
            "\n",
            "Length of vectorized chars: 290\n"
          ]
        }
      ],
      "source": [
        "# Test out character vectorizer\n",
        "random_train_chars = random.choice(train_chars)\n",
        "print(f\"Charified text:\\n{random_train_chars}\")\n",
        "print(f\"\\nLength of chars: {len(random_train_chars.split())}\")\n",
        "vectorized_chars = char_vectorizer([random_train_chars])\n",
        "print(f\"\\nVectorized chars:\\n{vectorized_chars}\")\n",
        "print(f\"\\nLength of vectorized chars: {len(vectorized_chars[0])}\")"
      ]
    },
    {
      "cell_type": "code",
      "execution_count": null,
      "metadata": {
        "colab": {
          "base_uri": "https://localhost:8080/"
        },
        "id": "5yeXBUGtcusF",
        "outputId": "a2a014e4-fe15-4d80-8fc7-5074b90fbb0e"
      },
      "outputs": [
        {
          "data": {
            "text/plain": [
              "<_PrefetchDataset element_spec=(TensorSpec(shape=(None,), dtype=tf.string, name=None), TensorSpec(shape=(None, 5), dtype=tf.float64, name=None))>"
            ]
          },
          "execution_count": 71,
          "metadata": {},
          "output_type": "execute_result"
        }
      ],
      "source": [
        "train_char_dataset = tf.data.Dataset.from_tensor_slices((train_chars, train_target_one_hot_encoded)).batch(32).prefetch(tf.data.AUTOTUNE)\n",
        "val_char_dataset = tf.data.Dataset.from_tensor_slices((val_chars, val_target_one_hot_encoded)).batch(32).prefetch(tf.data.AUTOTUNE)\n",
        "\n",
        "train_char_dataset"
      ]
    },
    {
      "cell_type": "code",
      "execution_count": null,
      "metadata": {
        "colab": {
          "base_uri": "https://localhost:8080/"
        },
        "id": "a-zXdBiPYyIy",
        "outputId": "db87d9a9-9366-4834-8e46-659e7deb43f3"
      },
      "outputs": [
        {
          "name": "stdout",
          "output_type": "stream",
          "text": [
            "Charified text (before vectorization and embedding):\n",
            "t h e   m e d i a n   (   i n t e r q u a r t i l e   r a n g e   )   l o g   r e d u c t i o n s   i n   t h e   v i r a l   l o a d   a t   @   w e e k s   i n   t h e   @   a r m s   w e r e   s i m i l a r   a t   @   (   p   =   @   )   a n d   @   w e e k s   (   p   =   @   )   .\n",
            "\n",
            "Embedded chars (after vectorization and embedding):\n",
            "[[[-3.7720e-02  3.1708e-02  3.1376e-03 ...  5.1918e-03  2.2705e-02\n",
            "   -2.7603e-02]\n",
            "  [-1.5440e-03  7.0333e-06  4.7424e-02 ... -2.5177e-02  3.9490e-02\n",
            "   -9.5367e-04]\n",
            "  [-2.6825e-02  5.5923e-03  3.5614e-02 ...  4.8096e-02  4.3823e-02\n",
            "   -6.7406e-03]\n",
            "  ...\n",
            "  [ 1.8829e-02 -4.4403e-02 -2.3788e-02 ... -2.1545e-02  1.4244e-02\n",
            "   -2.8473e-02]\n",
            "  [ 1.8829e-02 -4.4403e-02 -2.3788e-02 ... -2.1545e-02  1.4244e-02\n",
            "   -2.8473e-02]\n",
            "  [ 1.8829e-02 -4.4403e-02 -2.3788e-02 ... -2.1545e-02  1.4244e-02\n",
            "   -2.8473e-02]]]\n",
            "\n",
            "Character embedding shape: (1, 290, 25)\n"
          ]
        }
      ],
      "source": [
        "# Create char embedding layer\n",
        "char_embed = tf.keras.layers.Embedding(input_dim=num_char_token, # number of different characters\n",
        "                              output_dim=25, # embedding dimension of each character (same as the paper in https://arxiv.org/pdf/1612.05251.pdf)\n",
        "                              mask_zero=False,\n",
        "                              name=\"char_embed\")\n",
        "\n",
        "# Test out character embedding layer\n",
        "print(f\"Charified text (before vectorization and embedding):\\n{random_train_chars}\\n\")\n",
        "char_embed_example = char_embed(char_vectorizer([random_train_chars]))\n",
        "print(f\"Embedded chars (after vectorization and embedding):\\n{char_embed_example}\\n\")\n",
        "print(f\"Character embedding shape: {char_embed_example.shape}\")"
      ]
    },
    {
      "cell_type": "markdown",
      "metadata": {
        "id": "B1KJnXf4bRHU"
      },
      "source": [
        "### Conv1D Char Level Model"
      ]
    },
    {
      "cell_type": "code",
      "execution_count": null,
      "metadata": {
        "colab": {
          "base_uri": "https://localhost:8080/"
        },
        "id": "7eHpGc8N5nHj",
        "outputId": "969e8054-0b57-4091-f090-89bdf82ee654"
      },
      "outputs": [
        {
          "name": "stdout",
          "output_type": "stream",
          "text": [
            "Model: \"model_3_conv1D_char_embedding\"\n",
            "_________________________________________________________________\n",
            " Layer (type)                Output Shape              Param #   \n",
            "=================================================================\n",
            " input_3 (InputLayer)        [(None, 1)]               0         \n",
            "                                                                 \n",
            " char_vectorizer (TextVecto  (None, 290)               0         \n",
            " rization)                                                       \n",
            "                                                                 \n",
            " char_embed (Embedding)      (None, 290, 25)           1750      \n",
            "                                                                 \n",
            " conv1d_1 (Conv1D)           (None, 290, 64)           8064      \n",
            "                                                                 \n",
            " global_max_pooling1d (Glob  (None, 64)                0         \n",
            " alMaxPooling1D)                                                 \n",
            "                                                                 \n",
            " dense_4 (Dense)             (None, 5)                 325       \n",
            "                                                                 \n",
            "=================================================================\n",
            "Total params: 10139 (39.61 KB)\n",
            "Trainable params: 10139 (39.61 KB)\n",
            "Non-trainable params: 0 (0.00 Byte)\n",
            "_________________________________________________________________\n"
          ]
        }
      ],
      "source": [
        "\n",
        "# Make Conv1D on chars only\n",
        "\n",
        "inputs = tf.keras.layers.Input(shape=(1,), dtype=\"string\")\n",
        "\n",
        "char_vectors = char_vectorizer(inputs)\n",
        "\n",
        "char_embeddings = char_embed(char_vectors)\n",
        "\n",
        "x = tf.keras.layers.Conv1D(64, kernel_size=5, padding=\"same\", activation=\"relu\")(char_embeddings)\n",
        "\n",
        "x = tf.keras.layers.GlobalMaxPool1D()(x)\n",
        "\n",
        "outputs = tf.keras.layers.Dense(5, activation=\"softmax\")(x)\n",
        "\n",
        "\n",
        "model_conv1D_char_embedding = tf.keras.Model(inputs=inputs,\n",
        "                         outputs=outputs,\n",
        "                         name=\"conv1D_char_embedding\")\n",
        "\n",
        "model_conv1D_char_embedding.summary()"
      ]
    },
    {
      "cell_type": "code",
      "execution_count": null,
      "metadata": {
        "id": "1tig_F34cJ8s"
      },
      "outputs": [],
      "source": [
        "model_conv1D_char_embedding.compile(loss=\"categorical_crossentropy\",\n",
        "                    optimizer=tf.keras.optimizers.Adam(),\n",
        "                    metrics=[\"accuracy\"])"
      ]
    },
    {
      "cell_type": "code",
      "execution_count": null,
      "metadata": {
        "colab": {
          "base_uri": "https://localhost:8080/"
        },
        "id": "AWrvIFh1cJ82",
        "outputId": "4d34b082-0fe8-4a9d-d551-91cdc6c08776"
      },
      "outputs": [
        {
          "name": "stdout",
          "output_type": "stream",
          "text": [
            "Epoch 1/5\n",
            "5627/5627 [==============================] - 54s 9ms/step - loss: 0.9011 - accuracy: 0.6496 - val_loss: 0.7846 - val_accuracy: 0.6960\n",
            "Epoch 2/5\n",
            "5627/5627 [==============================] - 56s 10ms/step - loss: 0.7547 - accuracy: 0.7118 - val_loss: 0.7411 - val_accuracy: 0.7149\n",
            "Epoch 3/5\n",
            "5627/5627 [==============================] - 37s 7ms/step - loss: 0.7187 - accuracy: 0.7274 - val_loss: 0.7201 - val_accuracy: 0.7264\n",
            "Epoch 4/5\n",
            "5627/5627 [==============================] - 35s 6ms/step - loss: 0.6989 - accuracy: 0.7356 - val_loss: 0.7045 - val_accuracy: 0.7345\n",
            "Epoch 5/5\n",
            "5627/5627 [==============================] - 36s 6ms/step - loss: 0.6864 - accuracy: 0.7409 - val_loss: 0.6943 - val_accuracy: 0.7385\n"
          ]
        }
      ],
      "source": [
        "history_con1d_char=model_conv1D_char_embedding.fit(train_char_dataset,validation_data=val_char_dataset,epochs=5)"
      ]
    },
    {
      "cell_type": "code",
      "execution_count": null,
      "metadata": {
        "colab": {
          "base_uri": "https://localhost:8080/"
        },
        "id": "cxe7mc3UcJ83",
        "outputId": "86c96fca-e698-48ac-9efb-89642b2388fa"
      },
      "outputs": [
        {
          "name": "stdout",
          "output_type": "stream",
          "text": [
            "945/945 [==============================] - 3s 3ms/step\n"
          ]
        },
        {
          "data": {
            "text/plain": [
              "{'Accuracy': 73.85000000000001,\n",
              " 'Precision': 73.31,\n",
              " 'Recall': 73.85000000000001,\n",
              " 'F1': 73.18}"
            ]
          },
          "execution_count": 76,
          "metadata": {},
          "output_type": "execute_result"
        }
      ],
      "source": [
        "Y_pred_Conv1D_char=tf.argmax(model_conv1D_char_embedding.predict(val_char_dataset),axis=1)\n",
        "Conv1D_char_results=calculate_results(y_true=val_target_num,y_pred=Y_pred_Conv1D_char)\n",
        "Conv1D_char_results"
      ]
    },
    {
      "cell_type": "markdown",
      "metadata": {
        "id": "MbxZMcsOYJ6V"
      },
      "source": [
        "### Hybrid Embeddings Multi-Model (Char Embedding + Token Embedding)"
      ]
    },
    {
      "cell_type": "code",
      "execution_count": null,
      "metadata": {
        "colab": {
          "base_uri": "https://localhost:8080/"
        },
        "id": "RGLVEGABHzGV",
        "outputId": "3185f3b7-86d8-4988-d3b5-a2ad15e27a92"
      },
      "outputs": [
        {
          "data": {
            "text/plain": [
              "(<_PrefetchDataset element_spec=((TensorSpec(shape=(None,), dtype=tf.string, name=None), TensorSpec(shape=(None,), dtype=tf.string, name=None)), TensorSpec(shape=(None, 5), dtype=tf.float64, name=None))>,\n",
              " <_PrefetchDataset element_spec=((TensorSpec(shape=(None,), dtype=tf.string, name=None), TensorSpec(shape=(None,), dtype=tf.string, name=None)), TensorSpec(shape=(None, 5), dtype=tf.float64, name=None))>)"
            ]
          },
          "execution_count": 82,
          "metadata": {},
          "output_type": "execute_result"
        }
      ],
      "source": [
        "\n",
        "# Combine chars and tokens into a dataset\n",
        "train_char_token_data = tf.data.Dataset.from_tensor_slices((train_sentences, train_chars)) # make data\n",
        "train_char_token_labels = tf.data.Dataset.from_tensor_slices(train_target_one_hot_encoded) # make labels\n",
        "train_char_token_dataset = tf.data.Dataset.zip((train_char_token_data, train_char_token_labels)) # combine data and labels\n",
        "\n",
        "# Prefetch and batch train data\n",
        "train_char_token_dataset = train_char_token_dataset.batch(32).prefetch(tf.data.AUTOTUNE)\n",
        "\n",
        "# Repeat same steps validation data\n",
        "val_char_token_data = tf.data.Dataset.from_tensor_slices((val_sentences, val_chars))\n",
        "val_char_token_labels = tf.data.Dataset.from_tensor_slices(val_target_one_hot_encoded)\n",
        "val_char_token_dataset = tf.data.Dataset.zip((val_char_token_data, val_char_token_labels))\n",
        "val_char_token_dataset = val_char_token_dataset.batch(32).prefetch(tf.data.AUTOTUNE)\n",
        "\n",
        "\n",
        "# Check out training char and token embedding dataset\n",
        "train_char_token_dataset, val_char_token_dataset\n"
      ]
    },
    {
      "cell_type": "code",
      "execution_count": null,
      "metadata": {
        "colab": {
          "base_uri": "https://localhost:8080/"
        },
        "id": "yOn_aN_65nJs",
        "outputId": "22f480dd-70d5-49d7-ac35-53801252f0bd"
      },
      "outputs": [
        {
          "name": "stdout",
          "output_type": "stream",
          "text": [
            "Model: \"token_USE_feature_extractor_model\"\n",
            "_________________________________________________________________\n",
            " Layer (type)                Output Shape              Param #   \n",
            "=================================================================\n",
            " input_4 (InputLayer)        [(None,)]                 0         \n",
            "                                                                 \n",
            " USE (KerasLayer)            (None, 512)               256797824 \n",
            "                                                                 \n",
            " dense_5 (Dense)             (None, 128)               65664     \n",
            "                                                                 \n",
            "=================================================================\n",
            "Total params: 256863488 (979.86 MB)\n",
            "Trainable params: 65664 (256.50 KB)\n",
            "Non-trainable params: 256797824 (979.61 MB)\n",
            "_________________________________________________________________\n"
          ]
        }
      ],
      "source": [
        "inputs=tf.keras.layers.Input(shape=[],dtype=tf.string)\n",
        "\n",
        "Token_embed=USE_layer(inputs)\n",
        "\n",
        "outputs=tf.keras.layers.Dense(128,activation='relu')(Token_embed)\n",
        "\n",
        "\n",
        "token_model=tf.keras.Model(inputs,outputs,name='token_USE_feature_extractor_model')\n",
        "\n",
        "token_model.summary()"
      ]
    },
    {
      "cell_type": "code",
      "execution_count": null,
      "metadata": {
        "colab": {
          "base_uri": "https://localhost:8080/"
        },
        "id": "GIzb0AjbYfNd",
        "outputId": "1841e000-a016-4927-c674-44155200817c"
      },
      "outputs": [
        {
          "name": "stdout",
          "output_type": "stream",
          "text": [
            "Model: \"model\"\n",
            "_________________________________________________________________\n",
            " Layer (type)                Output Shape              Param #   \n",
            "=================================================================\n",
            " input_5 (InputLayer)        [(None,)]                 0         \n",
            "                                                                 \n",
            " char_vectorizer (TextVecto  (None, 290)               0         \n",
            " rization)                                                       \n",
            "                                                                 \n",
            " char_embed (Embedding)      (None, 290, 25)           1750      \n",
            "                                                                 \n",
            " bidirectional (Bidirection  (None, 50)                10200     \n",
            " al)                                                             \n",
            "                                                                 \n",
            "=================================================================\n",
            "Total params: 11950 (46.68 KB)\n",
            "Trainable params: 11950 (46.68 KB)\n",
            "Non-trainable params: 0 (0.00 Byte)\n",
            "_________________________________________________________________\n"
          ]
        }
      ],
      "source": [
        "char_inputs=tf.keras.layers.Input(shape=[],dtype=tf.string)\n",
        "char_vec_inputs=char_vectorizer(char_inputs)\n",
        "cahr_embedd=char_embed(char_vec_inputs)\n",
        "\n",
        "char_bi_lstm=tf.keras.layers.Bidirectional(tf.keras.layers.LSTM(25))(cahr_embedd)\n",
        "\n",
        "char_model=tf.keras.Model(inputs=char_inputs,outputs=char_bi_lstm)\n",
        "\n",
        "char_model.summary()\n"
      ]
    },
    {
      "cell_type": "code",
      "execution_count": null,
      "metadata": {
        "colab": {
          "base_uri": "https://localhost:8080/"
        },
        "id": "Myc7L3xiavBX",
        "outputId": "17f44cc4-e090-4c84-ff37-21ce6fe1ead3"
      },
      "outputs": [
        {
          "name": "stdout",
          "output_type": "stream",
          "text": [
            "Model: \"model_1\"\n",
            "__________________________________________________________________________________________________\n",
            " Layer (type)                Output Shape                 Param #   Connected to                  \n",
            "==================================================================================================\n",
            " input_5 (InputLayer)        [(None,)]                    0         []                            \n",
            "                                                                                                  \n",
            " input_4 (InputLayer)        [(None,)]                    0         []                            \n",
            "                                                                                                  \n",
            " char_vectorizer (TextVecto  (None, 290)                  0         ['input_5[0][0]']             \n",
            " rization)                                                                                        \n",
            "                                                                                                  \n",
            " USE (KerasLayer)            (None, 512)                  2567978   ['input_4[0][0]']             \n",
            "                                                          24                                      \n",
            "                                                                                                  \n",
            " char_embed (Embedding)      (None, 290, 25)              1750      ['char_vectorizer[1][0]']     \n",
            "                                                                                                  \n",
            " dense_5 (Dense)             (None, 128)                  65664     ['USE[1][0]']                 \n",
            "                                                                                                  \n",
            " bidirectional (Bidirection  (None, 50)                   10200     ['char_embed[1][0]']          \n",
            " al)                                                                                              \n",
            "                                                                                                  \n",
            " concatenate (Concatenate)   (None, 178)                  0         ['dense_5[0][0]',             \n",
            "                                                                     'bidirectional[0][0]']       \n",
            "                                                                                                  \n",
            " dropout (Dropout)           (None, 178)                  0         ['concatenate[0][0]']         \n",
            "                                                                                                  \n",
            " dense_6 (Dense)             (None, 200)                  35800     ['dropout[0][0]']             \n",
            "                                                                                                  \n",
            " dropout_1 (Dropout)         (None, 200)                  0         ['dense_6[0][0]']             \n",
            "                                                                                                  \n",
            " dense_7 (Dense)             (None, 5)                    1005      ['dropout_1[0][0]']           \n",
            "                                                                                                  \n",
            "==================================================================================================\n",
            "Total params: 256912243 (980.04 MB)\n",
            "Trainable params: 114419 (446.95 KB)\n",
            "Non-trainable params: 256797824 (979.61 MB)\n",
            "__________________________________________________________________________________________________\n"
          ]
        }
      ],
      "source": [
        "## Concatinate the two models\n",
        "\n",
        "token_char_concat=tf.keras.layers.Concatenate()([token_model.output,char_model.output])\n",
        "droput1=tf.keras.layers.Dropout(0.25)(token_char_concat)\n",
        "dense_concat=tf.keras.layers.Dense(200, activation='relu')(droput1)\n",
        "droput2=tf.keras.layers.Dropout(0.25)(dense_concat)\n",
        "out=tf.keras.layers.Dense(5,activation='softmax')(droput2)\n",
        "hybrid_concat_model=tf.keras.Model(inputs=[token_model.input,char_model.input],outputs=out)\n",
        "\n",
        "\n",
        "hybrid_concat_model.summary()"
      ]
    },
    {
      "cell_type": "code",
      "execution_count": null,
      "metadata": {
        "colab": {
          "base_uri": "https://localhost:8080/",
          "height": 856
        },
        "id": "eSOf0SB2au9j",
        "outputId": "17e1a840-5fa9-4355-9fa2-0f145912c46e"
      },
      "outputs": [
        {
          "data": {
            "image/png": "[encoded data removed]",
            "text/plain": [
              "<IPython.core.display.Image object>"
            ]
          },
          "execution_count": 103,
          "metadata": {},
          "output_type": "execute_result"
        }
      ],
      "source": [
        "# prompt: plot tensoflow model\n",
        "\n",
        "tf.keras.utils.plot_model(hybrid_concat_model, show_shapes=False)\n"
      ]
    },
    {
      "cell_type": "code",
      "execution_count": null,
      "metadata": {
        "id": "ehy6tAr9HzJI"
      },
      "outputs": [],
      "source": [
        "# Compile token char model\n",
        "hybrid_concat_model.compile(loss=\"categorical_crossentropy\",\n",
        "                optimizer=tf.keras.optimizers.Adam(),\n",
        "                metrics=[\"accuracy\"])\n",
        "\n"
      ]
    },
    {
      "cell_type": "code",
      "execution_count": null,
      "metadata": {
        "colab": {
          "base_uri": "https://localhost:8080/"
        },
        "id": "5YsBWWkwHzC8",
        "outputId": "a88e50c8-473d-4e3c-f6ec-cafc17f494da"
      },
      "outputs": [
        {
          "name": "stdout",
          "output_type": "stream",
          "text": [
            "Epoch 1/3\n",
            "562/562 [==============================] - 27s 35ms/step - loss: 0.9041 - accuracy: 0.6459 - val_loss: 0.7568 - val_accuracy: 0.7088\n",
            "Epoch 2/3\n",
            "562/562 [==============================] - 23s 40ms/step - loss: 0.7395 - accuracy: 0.7160 - val_loss: 0.6934 - val_accuracy: 0.7364\n",
            "Epoch 3/3\n",
            "562/562 [==============================] - 22s 40ms/step - loss: 0.7124 - accuracy: 0.7226 - val_loss: 0.6580 - val_accuracy: 0.7527\n"
          ]
        }
      ],
      "source": [
        "\n",
        "# Fit the model on tokens and chars\n",
        "hybrid_history = hybrid_concat_model.fit(train_char_token_dataset, # train on dataset of token and characters\n",
        "                              steps_per_epoch=int(0.1 * len(train_char_token_dataset)),\n",
        "                              epochs=3,\n",
        "                              validation_data=val_char_token_dataset,\n",
        "                              validation_steps=int(0.1 * len(val_char_token_dataset)))"
      ]
    },
    {
      "cell_type": "code",
      "execution_count": null,
      "metadata": {
        "colab": {
          "base_uri": "https://localhost:8080/"
        },
        "id": "xf-5DfxzHzAY",
        "outputId": "8041d0f5-f71b-4f54-c762-a58048e31d6f"
      },
      "outputs": [
        {
          "name": "stdout",
          "output_type": "stream",
          "text": [
            "945/945 [==============================] - 17s 17ms/step\n"
          ]
        },
        {
          "data": {
            "text/plain": [
              "{'Accuracy': 74.75, 'Precision': 74.91, 'Recall': 74.75, 'F1': 74.69}"
            ]
          },
          "execution_count": 84,
          "metadata": {},
          "output_type": "execute_result"
        }
      ],
      "source": [
        "Y_pred_hybrid_char=tf.argmax(hybrid_concat_model.predict(val_char_token_dataset),axis=1)\n",
        "hybrid_results=calculate_results(y_true=val_target_num,y_pred=Y_pred_hybrid_char)\n",
        "hybrid_results"
      ]
    },
    {
      "cell_type": "markdown",
      "metadata": {
        "id": "QmYiGsfYHGhT"
      },
      "source": [
        "### Tri-Embedding multimodel (positional Embedding + Char Embedding + Token Embedding )"
      ]
    },
    {
      "cell_type": "code",
      "execution_count": null,
      "metadata": {
        "colab": {
          "base_uri": "https://localhost:8080/"
        },
        "id": "FWAo3B50Dcv9",
        "outputId": "cb5c6973-50fd-4808-edb0-f87534810f58"
      },
      "outputs": [
        {
          "data": {
            "text/plain": [
              "<tf.Tensor: shape=(5, 20), dtype=float32, numpy=\n",
              "array([[0., 0., 0., 0., 0., 0., 0., 0., 0., 0., 0., 1., 0., 0., 0., 0.,\n",
              "        0., 0., 0., 0.],\n",
              "       [0., 0., 0., 0., 0., 0., 0., 0., 0., 0., 0., 1., 0., 0., 0., 0.,\n",
              "        0., 0., 0., 0.],\n",
              "       [0., 0., 0., 0., 0., 0., 0., 0., 0., 0., 0., 1., 0., 0., 0., 0.,\n",
              "        0., 0., 0., 0.],\n",
              "       [0., 0., 0., 0., 0., 0., 0., 0., 0., 0., 0., 1., 0., 0., 0., 0.,\n",
              "        0., 0., 0., 0.],\n",
              "       [0., 0., 0., 0., 0., 0., 0., 0., 0., 0., 0., 1., 0., 0., 0., 0.,\n",
              "        0., 0., 0., 0.]], dtype=float32)>"
            ]
          },
          "execution_count": 85,
          "metadata": {},
          "output_type": "execute_result"
        }
      ],
      "source": [
        "train_total_line_one_hot_encoded= tf.one_hot(train_df[\"total_lines\"].to_numpy(), depth=20)\n",
        "val_total_line_one_hot_encoded= tf.one_hot(val_df[\"total_lines\"].to_numpy(),depth=20)\n",
        "test_total_line_one_hot_encoded= tf.one_hot(test_df[\"total_lines\"].to_numpy(),depth=20)\n",
        "train_total_line_one_hot_encoded[:5]"
      ]
    },
    {
      "cell_type": "code",
      "execution_count": null,
      "metadata": {
        "colab": {
          "base_uri": "https://localhost:8080/"
        },
        "id": "MmQIs5gTDcwJ",
        "outputId": "ac39ab6f-db7f-49b7-c791-33055065eab0"
      },
      "outputs": [
        {
          "data": {
            "text/plain": [
              "<tf.Tensor: shape=(5, 15), dtype=float32, numpy=\n",
              "array([[1., 0., 0., 0., 0., 0., 0., 0., 0., 0., 0., 0., 0., 0., 0.],\n",
              "       [0., 1., 0., 0., 0., 0., 0., 0., 0., 0., 0., 0., 0., 0., 0.],\n",
              "       [0., 0., 1., 0., 0., 0., 0., 0., 0., 0., 0., 0., 0., 0., 0.],\n",
              "       [0., 0., 0., 1., 0., 0., 0., 0., 0., 0., 0., 0., 0., 0., 0.],\n",
              "       [0., 0., 0., 0., 1., 0., 0., 0., 0., 0., 0., 0., 0., 0., 0.]],\n",
              "      dtype=float32)>"
            ]
          },
          "execution_count": 86,
          "metadata": {},
          "output_type": "execute_result"
        }
      ],
      "source": [
        "train_line_number_one_hot_encoded= tf.one_hot(train_df[\"line_number\"].to_numpy(), depth=15)\n",
        "val_line_number_one_hot_encoded= tf.one_hot(val_df[\"line_number\"].to_numpy(),depth=15)\n",
        "test_line_number_one_hot_encoded= tf.one_hot(test_df[\"line_number\"].to_numpy(),depth=15)\n",
        "train_line_number_one_hot_encoded[0:5]"
      ]
    },
    {
      "cell_type": "code",
      "execution_count": null,
      "metadata": {
        "colab": {
          "base_uri": "https://localhost:8080/"
        },
        "id": "v_qZW2yhauuF",
        "outputId": "b10a0d08-8031-42a6-8918-37f3d1eb7560"
      },
      "outputs": [
        {
          "data": {
            "text/plain": [
              "(<_PrefetchDataset element_spec=((TensorSpec(shape=(None, 15), dtype=tf.float32, name=None), TensorSpec(shape=(None, 20), dtype=tf.float32, name=None), TensorSpec(shape=(None,), dtype=tf.string, name=None), TensorSpec(shape=(None,), dtype=tf.string, name=None)), TensorSpec(shape=(None, 5), dtype=tf.float64, name=None))>,\n",
              " <_PrefetchDataset element_spec=((TensorSpec(shape=(None, 15), dtype=tf.float32, name=None), TensorSpec(shape=(None, 20), dtype=tf.float32, name=None), TensorSpec(shape=(None,), dtype=tf.string, name=None), TensorSpec(shape=(None,), dtype=tf.string, name=None)), TensorSpec(shape=(None, 5), dtype=tf.float64, name=None))>)"
            ]
          },
          "execution_count": 91,
          "metadata": {},
          "output_type": "execute_result"
        }
      ],
      "source": [
        "train_pos_char_token_data = tf.data.Dataset.from_tensor_slices((train_line_number_one_hot_encoded, # line numbers\n",
        "                                                                train_total_line_one_hot_encoded, # total lines\n",
        "                                                                train_sentences, # train tokens\n",
        "                                                                train_chars)) # train chars\n",
        "train_pos_char_token_labels = tf.data.Dataset.from_tensor_slices(train_target_one_hot_encoded) # train labels\n",
        "train_pos_char_token_dataset = tf.data.Dataset.zip((train_pos_char_token_data, train_pos_char_token_labels)) # combine data and labels\n",
        "train_pos_char_token_dataset = train_pos_char_token_dataset.batch(32).prefetch(tf.data.AUTOTUNE) # turn into batches and prefetch appropriately\n",
        "\n",
        "# Validation dataset\n",
        "val_pos_char_token_data = tf.data.Dataset.from_tensor_slices((val_line_number_one_hot_encoded,\n",
        "                                                              val_total_line_one_hot_encoded,\n",
        "                                                              val_sentences,\n",
        "                                                              val_chars))\n",
        "val_pos_char_token_labels = tf.data.Dataset.from_tensor_slices(val_target_one_hot_encoded)\n",
        "val_pos_char_token_dataset = tf.data.Dataset.zip((val_pos_char_token_data, val_pos_char_token_labels))\n",
        "val_pos_char_token_dataset = val_pos_char_token_dataset.batch(32).prefetch(tf.data.AUTOTUNE) # turn into batches and prefetch appropriately\n",
        "\n",
        "# Check input shapes\n",
        "train_pos_char_token_dataset, val_pos_char_token_dataset"
      ]
    },
    {
      "cell_type": "code",
      "execution_count": null,
      "metadata": {
        "id": "YaI2XUIZc0vb"
      },
      "outputs": [],
      "source": [
        "# Token inputs\n",
        "token_inputs = tf.keras.layers.Input(shape=[], dtype=\"string\", name=\"token_inputs\")\n",
        "token_embeddings = USE_layer(token_inputs)\n",
        "token_outputs = tf.keras.layers.Dense(128, activation=\"relu\")(token_embeddings)\n",
        "token_model = tf.keras.Model(inputs=token_inputs,\n",
        "                             outputs=token_outputs)\n",
        "\n",
        "# Char inputs\n",
        "char_inputs = tf.keras.layers.Input(shape=(1,), dtype=\"string\", name=\"char_inputs\")\n",
        "char_vectors = char_vectorizer(char_inputs)\n",
        "char_embeddings = char_embed(char_vectors)\n",
        "char_bi_lstm = tf.keras.layers.Bidirectional(tf.keras.layers.LSTM(32))(char_embeddings)\n",
        "char_model = tf.keras.Model(inputs=char_inputs,\n",
        "                            outputs=char_bi_lstm)\n",
        "\n",
        "# Line numbers inputs\n",
        "line_number_inputs = tf.keras.layers.Input(shape=(15,), dtype=tf.int32, name=\"line_number_input\")\n",
        "x = tf.keras.layers.Dense(32, activation=\"relu\")(line_number_inputs)\n",
        "line_number_model = tf.keras.Model(inputs=line_number_inputs,\n",
        "                                   outputs=x)\n",
        "\n",
        "#  Total lines inputs\n",
        "total_lines_inputs = tf.keras.layers.Input(shape=(20,), dtype=tf.int32, name=\"total_lines_input\")\n",
        "y = tf.keras.layers.Dense(32, activation=\"relu\")(total_lines_inputs)\n",
        "total_line_model = tf.keras.Model(inputs=total_lines_inputs,\n",
        "                                  outputs=y)\n",
        "\n",
        "# Combine token and char embeddings into a hybrid embedding\n",
        "combined_embeddings = tf.keras.layers.Concatenate(name=\"token_char_hybrid_embedding\")([token_model.output,\n",
        "                                                                              char_model.output])\n",
        "z = tf.keras.layers.Dense(256, activation=\"relu\")(combined_embeddings)\n",
        "z = tf.keras.layers.Dropout(0.5)(z)\n",
        "\n",
        "#  Combine positional embeddings with combined token and char embeddings into a tribrid embedding\n",
        "z = tf.keras.layers.Concatenate(name=\"token_char_positional_embedding\")([line_number_model.output,\n",
        "                                                                total_line_model.output,\n",
        "                                                                z])\n",
        "\n",
        "#  Create output layer\n",
        "output_layer = tf.keras.layers.Dense(5, activation=\"softmax\", name=\"output_layer\")(z)\n",
        "\n",
        "#  Put together model\n",
        "model_tribrid= tf.keras.Model(inputs=[line_number_model.input,\n",
        "                                 total_line_model.input,\n",
        "                                 token_model.input,\n",
        "                                 char_model.input],\n",
        "                         outputs=output_layer)"
      ]
    },
    {
      "cell_type": "code",
      "execution_count": null,
      "metadata": {
        "colab": {
          "base_uri": "https://localhost:8080/",
          "height": 856
        },
        "id": "MarJIILTeFHJ",
        "outputId": "9ff717ff-fd9e-4fc5-db2d-15e045b68717"
      },
      "outputs": [
        {
          "data": {
            "image/png": "[encoded data removed]",
            "text/plain": [
              "<IPython.core.display.Image object>"
            ]
          },
          "execution_count": 99,
          "metadata": {},
          "output_type": "execute_result"
        }
      ],
      "source": [
        "\n",
        "tf.keras.utils.plot_model(model_tribrid, show_shapes=False)\n"
      ]
    },
    {
      "cell_type": "code",
      "execution_count": null,
      "metadata": {
        "id": "BJU0E5t6eFHK"
      },
      "outputs": [],
      "source": [
        "# Compile token char model\n",
        "model_tribrid.compile(loss=\"categorical_crossentropy\",\n",
        "                optimizer=tf.keras.optimizers.Adam(),\n",
        "                metrics=[\"accuracy\"])\n",
        "\n"
      ]
    },
    {
      "cell_type": "code",
      "execution_count": null,
      "metadata": {
        "colab": {
          "base_uri": "https://localhost:8080/"
        },
        "id": "NojnCPVZeFHL",
        "outputId": "759bf26e-9269-4dec-9ae4-fd3895e1ff25"
      },
      "outputs": [
        {
          "name": "stdout",
          "output_type": "stream",
          "text": [
            "Epoch 1/8\n",
            "562/562 [==============================] - 18s 33ms/step - loss: 0.3659 - accuracy: 0.8649 - val_loss: 0.3712 - val_accuracy: 0.8587\n",
            "Epoch 2/8\n",
            "562/562 [==============================] - 19s 34ms/step - loss: 0.3328 - accuracy: 0.8736 - val_loss: 0.3671 - val_accuracy: 0.8630\n",
            "Epoch 3/8\n",
            "562/562 [==============================] - 19s 34ms/step - loss: 0.3286 - accuracy: 0.8736 - val_loss: 0.3757 - val_accuracy: 0.8561\n",
            "Epoch 4/8\n",
            "562/562 [==============================] - 20s 35ms/step - loss: 0.3651 - accuracy: 0.8643 - val_loss: 0.3633 - val_accuracy: 0.8577\n",
            "Epoch 5/8\n",
            "562/562 [==============================] - 19s 34ms/step - loss: 0.3624 - accuracy: 0.8643 - val_loss: 0.3608 - val_accuracy: 0.8634\n",
            "Epoch 6/8\n",
            "562/562 [==============================] - 18s 33ms/step - loss: 0.3919 - accuracy: 0.8492 - val_loss: 0.3591 - val_accuracy: 0.8627\n",
            "Epoch 7/8\n",
            "562/562 [==============================] - 21s 37ms/step - loss: 0.3744 - accuracy: 0.8571 - val_loss: 0.3589 - val_accuracy: 0.8590\n",
            "Epoch 8/8\n",
            "562/562 [==============================] - 18s 33ms/step - loss: 0.3745 - accuracy: 0.8604 - val_loss: 0.3421 - val_accuracy: 0.8733\n"
          ]
        }
      ],
      "source": [
        "\n",
        "# Fit the model on tokens and chars\n",
        "tribrid_history = model_tribrid.fit(train_pos_char_token_dataset, # train on dataset of token and characters\n",
        "                              steps_per_epoch=int(0.1 * len(train_pos_char_token_dataset)),\n",
        "                              epochs=8,\n",
        "                              validation_data=val_pos_char_token_dataset,\n",
        "                              validation_steps=int(0.1 * len(val_pos_char_token_dataset)))"
      ]
    },
    {
      "cell_type": "code",
      "execution_count": null,
      "metadata": {
        "colab": {
          "base_uri": "https://localhost:8080/"
        },
        "id": "oRmYyeyueFHL",
        "outputId": "553ea4ff-4d96-47d2-80f3-ef297531d2d1"
      },
      "outputs": [
        {
          "name": "stdout",
          "output_type": "stream",
          "text": [
            "945/945 [==============================] - 17s 18ms/step\n"
          ]
        },
        {
          "data": {
            "text/plain": [
              "{'Accuracy': 86.86, 'Precision': 86.86, 'Recall': 86.86, 'F1': 86.7}"
            ]
          },
          "execution_count": 107,
          "metadata": {},
          "output_type": "execute_result"
        }
      ],
      "source": [
        "Y_pred_tribrid=tf.argmax(model_tribrid.predict(val_pos_char_token_dataset),axis=1)\n",
        "tribrid_results=calculate_results(y_true=val_target_num,y_pred=Y_pred_tribrid)\n",
        "tribrid_results"
      ]
    },
    {
      "cell_type": "markdown",
      "metadata": {
        "id": "tpMM-mXGo1xk"
      },
      "source": [
        "## Results"
      ]
    },
    {
      "cell_type": "code",
      "execution_count": null,
      "metadata": {
        "id": "boNonsXOgCUb"
      },
      "outputs": [],
      "source": [
        "Results=pd.DataFrame({\n",
        "    \"Naive Bayes Model\" : Results_NVB ,\n",
        "    \"Conv1D Token Model\" :  Conv1D_results,\n",
        "    \"Conv1D char Model\"   : Conv1D_char_results,\n",
        "    \"Universal Sentence Encoder Model\": USE_results,\n",
        "    \"Hybrid token char model\" : hybrid_results,\n",
        "    \"Tribrid token char pos model\" :tribrid_results\n",
        "\n",
        "}\n",
        "\n",
        ")"
      ]
    },
    {
      "cell_type": "code",
      "execution_count": null,
      "metadata": {
        "colab": {
          "base_uri": "https://localhost:8080/",
          "height": 238
        },
        "id": "OdbblZRCgCZh",
        "outputId": "ea73c527-db94-4ba1-99d7-42b01324a758"
      },
      "outputs": [
        {
          "data": {
            "application/vnd.google.colaboratory.intrinsic+json": {
              "summary": "{\n  \"name\": \"Results\",\n  \"rows\": 6,\n  \"fields\": [\n    {\n      \"column\": \"Accuracy\",\n      \"properties\": {\n        \"dtype\": \"number\",\n        \"std\": 5.5305406607310985,\n        \"min\": 72.18,\n        \"max\": 86.86,\n        \"num_unique_values\": 6,\n        \"samples\": [\n          72.18,\n          81.28,\n          86.86\n        ],\n        \"semantic_type\": \"\",\n        \"description\": \"\"\n      }\n    },\n    {\n      \"column\": \"Precision\",\n      \"properties\": {\n        \"dtype\": \"number\",\n        \"std\": 5.6369518950108715,\n        \"min\": 71.86,\n        \"max\": 86.86,\n        \"num_unique_values\": 6,\n        \"samples\": [\n          71.86,\n          81.07,\n          86.86\n        ],\n        \"semantic_type\": \"\",\n        \"description\": \"\"\n      }\n    },\n    {\n      \"column\": \"Recall\",\n      \"properties\": {\n        \"dtype\": \"number\",\n        \"std\": 5.5305406607310985,\n        \"min\": 72.18,\n        \"max\": 86.86,\n        \"num_unique_values\": 6,\n        \"samples\": [\n          72.18,\n          81.28,\n          86.86\n        ],\n        \"semantic_type\": \"\",\n        \"description\": \"\"\n      }\n    },\n    {\n      \"column\": \"F1\",\n      \"properties\": {\n        \"dtype\": \"number\",\n        \"std\": 6.040124722774081,\n        \"min\": 69.89,\n        \"max\": 86.7,\n        \"num_unique_values\": 6,\n        \"samples\": [\n          69.89,\n          81.03,\n          86.7\n        ],\n        \"semantic_type\": \"\",\n        \"description\": \"\"\n      }\n    }\n  ]\n}",
              "type": "dataframe",
              "variable_name": "Results"
            },
            "text/html": [
              "\n",
              "  <div id=\"df-e34776ed-340f-4012-bab7-4f5719c64863\" class=\"colab-df-container\">\n",
              "    <div>\n",
              "<style scoped>\n",
              "    .dataframe tbody tr th:only-of-type {\n",
              "        vertical-align: middle;\n",
              "    }\n",
              "\n",
              "    .dataframe tbody tr th {\n",
              "        vertical-align: top;\n",
              "    }\n",
              "\n",
              "    .dataframe thead th {\n",
              "        text-align: right;\n",
              "    }\n",
              "</style>\n",
              "<table border=\"1\" class=\"dataframe\">\n",
              "  <thead>\n",
              "    <tr style=\"text-align: right;\">\n",
              "      <th></th>\n",
              "      <th>Accuracy</th>\n",
              "      <th>Precision</th>\n",
              "      <th>Recall</th>\n",
              "      <th>F1</th>\n",
              "    </tr>\n",
              "  </thead>\n",
              "  <tbody>\n",
              "    <tr>\n",
              "      <th>Naive Bayes Model</th>\n",
              "      <td>72.18</td>\n",
              "      <td>71.86</td>\n",
              "      <td>72.18</td>\n",
              "      <td>69.89</td>\n",
              "    </tr>\n",
              "    <tr>\n",
              "      <th>Conv1D Token Model</th>\n",
              "      <td>81.28</td>\n",
              "      <td>81.07</td>\n",
              "      <td>81.28</td>\n",
              "      <td>81.03</td>\n",
              "    </tr>\n",
              "    <tr>\n",
              "      <th>Conv1D char Model</th>\n",
              "      <td>73.85</td>\n",
              "      <td>73.31</td>\n",
              "      <td>73.85</td>\n",
              "      <td>73.18</td>\n",
              "    </tr>\n",
              "    <tr>\n",
              "      <th>Universal Sentence Encoder Model</th>\n",
              "      <td>76.14</td>\n",
              "      <td>75.87</td>\n",
              "      <td>76.14</td>\n",
              "      <td>75.69</td>\n",
              "    </tr>\n",
              "    <tr>\n",
              "      <th>Hybrid token char model</th>\n",
              "      <td>74.75</td>\n",
              "      <td>74.91</td>\n",
              "      <td>74.75</td>\n",
              "      <td>74.69</td>\n",
              "    </tr>\n",
              "    <tr>\n",
              "      <th>Tribrid token char pos model</th>\n",
              "      <td>86.86</td>\n",
              "      <td>86.86</td>\n",
              "      <td>86.86</td>\n",
              "      <td>86.70</td>\n",
              "    </tr>\n",
              "  </tbody>\n",
              "</table>\n",
              "</div>\n",
              "    <div class=\"colab-df-buttons\">\n",
              "\n",
              "  <div class=\"colab-df-container\">\n",
              "    <button class=\"colab-df-convert\" onclick=\"convertToInteractive('df-e34776ed-340f-4012-bab7-4f5719c64863')\"\n",
              "            title=\"Convert this dataframe to an interactive table.\"\n",
              "            style=\"display:none;\">\n",
              "\n",
              "  <svg xmlns=\"http://www.w3.org/2000/svg\" height=\"24px\" viewBox=\"0 -960 960 960\">\n",
              "    <path d=\"M120-120v-720h720v720H120Zm60-500h600v-160H180v160Zm220 220h160v-160H400v160Zm0 220h160v-160H400v160ZM180-400h160v-160H180v160Zm440 0h160v-160H620v160ZM180-180h160v-160H180v160Zm440 0h160v-160H620v160Z\"/>\n",
              "  </svg>\n",
              "    </button>\n",
              "\n",
              "  <style>\n",
              "    .colab-df-container {\n",
              "      display:flex;\n",
              "      gap: 12px;\n",
              "    }\n",
              "\n",
              "    .colab-df-convert {\n",
              "      background-color: #E8F0FE;\n",
              "      border: none;\n",
              "      border-radius: 50%;\n",
              "      cursor: pointer;\n",
              "      display: none;\n",
              "      fill: #1967D2;\n",
              "      height: 32px;\n",
              "      padding: 0 0 0 0;\n",
              "      width: 32px;\n",
              "    }\n",
              "\n",
              "    .colab-df-convert:hover {\n",
              "      background-color: #E2EBFA;\n",
              "      box-shadow: 0px 1px 2px rgba(60, 64, 67, 0.3), 0px 1px 3px 1px rgba(60, 64, 67, 0.15);\n",
              "      fill: #174EA6;\n",
              "    }\n",
              "\n",
              "    .colab-df-buttons div {\n",
              "      margin-bottom: 4px;\n",
              "    }\n",
              "\n",
              "    [theme=dark] .colab-df-convert {\n",
              "      background-color: #3B4455;\n",
              "      fill: #D2E3FC;\n",
              "    }\n",
              "\n",
              "    [theme=dark] .colab-df-convert:hover {\n",
              "      background-color: #434B5C;\n",
              "      box-shadow: 0px 1px 3px 1px rgba(0, 0, 0, 0.15);\n",
              "      filter: drop-shadow(0px 1px 2px rgba(0, 0, 0, 0.3));\n",
              "      fill: #FFFFFF;\n",
              "    }\n",
              "  </style>\n",
              "\n",
              "    <script>\n",
              "      const buttonEl =\n",
              "        document.querySelector('#df-e34776ed-340f-4012-bab7-4f5719c64863 button.colab-df-convert');\n",
              "      buttonEl.style.display =\n",
              "        google.colab.kernel.accessAllowed ? 'block' : 'none';\n",
              "\n",
              "      async function convertToInteractive(key) {\n",
              "        const element = document.querySelector('#df-e34776ed-340f-4012-bab7-4f5719c64863');\n",
              "        const dataTable =\n",
              "          await google.colab.kernel.invokeFunction('convertToInteractive',\n",
              "                                                    [key], {});\n",
              "        if (!dataTable) return;\n",
              "\n",
              "        const docLinkHtml = 'Like what you see? Visit the ' +\n",
              "          '<a target=\"_blank\" href=https://colab.research.google.com/notebooks/data_table.ipynb>data table notebook</a>'\n",
              "          + ' to learn more about interactive tables.';\n",
              "        element.innerHTML = '';\n",
              "        dataTable['output_type'] = 'display_data';\n",
              "        await google.colab.output.renderOutput(dataTable, element);\n",
              "        const docLink = document.createElement('div');\n",
              "        docLink.innerHTML = docLinkHtml;\n",
              "        element.appendChild(docLink);\n",
              "      }\n",
              "    </script>\n",
              "  </div>\n",
              "\n",
              "\n",
              "<div id=\"df-627cac5c-c415-4b9b-8287-a5ba569b4193\">\n",
              "  <button class=\"colab-df-quickchart\" onclick=\"quickchart('df-627cac5c-c415-4b9b-8287-a5ba569b4193')\"\n",
              "            title=\"Suggest charts\"\n",
              "            style=\"display:none;\">\n",
              "\n",
              "<svg xmlns=\"http://www.w3.org/2000/svg\" height=\"24px\"viewBox=\"0 0 24 24\"\n",
              "     width=\"24px\">\n",
              "    <g>\n",
              "        <path d=\"M19 3H5c-1.1 0-2 .9-2 2v14c0 1.1.9 2 2 2h14c1.1 0 2-.9 2-2V5c0-1.1-.9-2-2-2zM9 17H7v-7h2v7zm4 0h-2V7h2v10zm4 0h-2v-4h2v4z\"/>\n",
              "    </g>\n",
              "</svg>\n",
              "  </button>\n",
              "\n",
              "<style>\n",
              "  .colab-df-quickchart {\n",
              "      --bg-color: #E8F0FE;\n",
              "      --fill-color: #1967D2;\n",
              "      --hover-bg-color: #E2EBFA;\n",
              "      --hover-fill-color: #174EA6;\n",
              "      --disabled-fill-color: #AAA;\n",
              "      --disabled-bg-color: #DDD;\n",
              "  }\n",
              "\n",
              "  [theme=dark] .colab-df-quickchart {\n",
              "      --bg-color: #3B4455;\n",
              "      --fill-color: #D2E3FC;\n",
              "      --hover-bg-color: #434B5C;\n",
              "      --hover-fill-color: #FFFFFF;\n",
              "      --disabled-bg-color: #3B4455;\n",
              "      --disabled-fill-color: #666;\n",
              "  }\n",
              "\n",
              "  .colab-df-quickchart {\n",
              "    background-color: var(--bg-color);\n",
              "    border: none;\n",
              "    border-radius: 50%;\n",
              "    cursor: pointer;\n",
              "    display: none;\n",
              "    fill: var(--fill-color);\n",
              "    height: 32px;\n",
              "    padding: 0;\n",
              "    width: 32px;\n",
              "  }\n",
              "\n",
              "  .colab-df-quickchart:hover {\n",
              "    background-color: var(--hover-bg-color);\n",
              "    box-shadow: 0 1px 2px rgba(60, 64, 67, 0.3), 0 1px 3px 1px rgba(60, 64, 67, 0.15);\n",
              "    fill: var(--button-hover-fill-color);\n",
              "  }\n",
              "\n",
              "  .colab-df-quickchart-complete:disabled,\n",
              "  .colab-df-quickchart-complete:disabled:hover {\n",
              "    background-color: var(--disabled-bg-color);\n",
              "    fill: var(--disabled-fill-color);\n",
              "    box-shadow: none;\n",
              "  }\n",
              "\n",
              "  .colab-df-spinner {\n",
              "    border: 2px solid var(--fill-color);\n",
              "    border-color: transparent;\n",
              "    border-bottom-color: var(--fill-color);\n",
              "    animation:\n",
              "      spin 1s steps(1) infinite;\n",
              "  }\n",
              "\n",
              "  @keyframes spin {\n",
              "    0% {\n",
              "      border-color: transparent;\n",
              "      border-bottom-color: var(--fill-color);\n",
              "      border-left-color: var(--fill-color);\n",
              "    }\n",
              "    20% {\n",
              "      border-color: transparent;\n",
              "      border-left-color: var(--fill-color);\n",
              "      border-top-color: var(--fill-color);\n",
              "    }\n",
              "    30% {\n",
              "      border-color: transparent;\n",
              "      border-left-color: var(--fill-color);\n",
              "      border-top-color: var(--fill-color);\n",
              "      border-right-color: var(--fill-color);\n",
              "    }\n",
              "    40% {\n",
              "      border-color: transparent;\n",
              "      border-right-color: var(--fill-color);\n",
              "      border-top-color: var(--fill-color);\n",
              "    }\n",
              "    60% {\n",
              "      border-color: transparent;\n",
              "      border-right-color: var(--fill-color);\n",
              "    }\n",
              "    80% {\n",
              "      border-color: transparent;\n",
              "      border-right-color: var(--fill-color);\n",
              "      border-bottom-color: var(--fill-color);\n",
              "    }\n",
              "    90% {\n",
              "      border-color: transparent;\n",
              "      border-bottom-color: var(--fill-color);\n",
              "    }\n",
              "  }\n",
              "</style>\n",
              "\n",
              "  <script>\n",
              "    async function quickchart(key) {\n",
              "      const quickchartButtonEl =\n",
              "        document.querySelector('#' + key + ' button');\n",
              "      quickchartButtonEl.disabled = true;  // To prevent multiple clicks.\n",
              "      quickchartButtonEl.classList.add('colab-df-spinner');\n",
              "      try {\n",
              "        const charts = await google.colab.kernel.invokeFunction(\n",
              "            'suggestCharts', [key], {});\n",
              "      } catch (error) {\n",
              "        console.error('Error during call to suggestCharts:', error);\n",
              "      }\n",
              "      quickchartButtonEl.classList.remove('colab-df-spinner');\n",
              "      quickchartButtonEl.classList.add('colab-df-quickchart-complete');\n",
              "    }\n",
              "    (() => {\n",
              "      let quickchartButtonEl =\n",
              "        document.querySelector('#df-627cac5c-c415-4b9b-8287-a5ba569b4193 button');\n",
              "      quickchartButtonEl.style.display =\n",
              "        google.colab.kernel.accessAllowed ? 'block' : 'none';\n",
              "    })();\n",
              "  </script>\n",
              "</div>\n",
              "    </div>\n",
              "  </div>\n"
            ],
            "text/plain": [
              "                                  Accuracy  Precision  Recall     F1\n",
              "Naive Bayes Model                    72.18      71.86   72.18  69.89\n",
              "Conv1D Token Model                   81.28      81.07   81.28  81.03\n",
              "Conv1D char Model                    73.85      73.31   73.85  73.18\n",
              "Universal Sentence Encoder Model     76.14      75.87   76.14  75.69\n",
              "Hybrid token char model              74.75      74.91   74.75  74.69\n",
              "Tribrid token char pos model         86.86      86.86   86.86  86.70"
            ]
          },
          "execution_count": 109,
          "metadata": {},
          "output_type": "execute_result"
        }
      ],
      "source": [
        "Results=Results.transpose()\n",
        "Results"
      ]
    },
    {
      "cell_type": "code",
      "execution_count": null,
      "metadata": {
        "colab": {
          "base_uri": "https://localhost:8080/",
          "height": 921
        },
        "id": "MAs5Xg6ngCfS",
        "outputId": "f3062c90-e6ce-433e-c62a-ea9a97639a0e"
      },
      "outputs": [
        {
          "data": {
            "text/plain": [
              "<matplotlib.legend.Legend at 0x78469e6e7700>"
            ]
          },
          "execution_count": 110,
          "metadata": {},
          "output_type": "execute_result"
        },
        {
          "data": {
            "image/png": "[encoded data removed]",
            "text/plain": [
              "<Figure size 1000x800 with 1 Axes>"
            ]
          },
          "metadata": {},
          "output_type": "display_data"
        }
      ],
      "source": [
        "Results.plot(kind='bar',figsize=(10,8)).legend(bbox_to_anchor=(1.0,1.0))"
      ]
    },
    {
      "cell_type": "markdown",
      "metadata": {
        "id": "3FOAUY-jo5zC"
      },
      "source": [
        "##  Random Example Model Output"
      ]
    },
    {
      "cell_type": "code",
      "execution_count": null,
      "metadata": {
        "id": "UKAosoTic0d8"
      },
      "outputs": [],
      "source": [
        "def random_test_sample(test_samples):\n",
        "    \"\"\"\n",
        "    Select a random test abstract from the preprocessed test samples and return all its lines.\n",
        "\n",
        "    \"\"\"\n",
        "    # Ensure there are samples available\n",
        "    if not test_samples:\n",
        "        raise ValueError(\"The test_samples list is empty.\")\n",
        "\n",
        "    # Randomly select an index for a test sample\n",
        "    random_index = random.randint(0, len(test_samples) - 1)\n",
        "\n",
        "    # Retrieve the total number of lines in the selected abstract\n",
        "    total_lines = test_samples[random_index]['total_lines']\n",
        "\n",
        "    # Initialize an empty list to store all lines of the abstract\n",
        "    abstract_sample = []\n",
        "\n",
        "    # Iterate over the test samples and collect all lines belonging to the selected abstract\n",
        "    for sample in test_samples:\n",
        "        if sample['total_lines'] == total_lines and len(abstract_sample) <= total_lines:\n",
        "            abstract_sample.append(sample)\n",
        "\n",
        "        # Break the loop if all lines of the abstract are collected\n",
        "        if len(abstract_sample) > total_lines:\n",
        "            break\n",
        "\n",
        "    return abstract_sample"
      ]
    },
    {
      "cell_type": "code",
      "execution_count": null,
      "metadata": {
        "colab": {
          "base_uri": "https://localhost:8080/"
        },
        "id": "uVAhTe88c0Un",
        "outputId": "db4c920f-41e5-4d05-80bf-00c23cbd9d35"
      },
      "outputs": [
        {
          "data": {
            "text/plain": [
              "[{'target': 'OBJECTIVE',\n",
              "  'text': 'a pharmacokinetic substudy was conducted within a phase @ clinical trial that evaluated the efficacy and safety of two leuprolide acetate @-month depot formulations in children with central precocious puberty ( cpp ) , where the pharmacokinetics of leuprolide and the exposure-response relationship between leuprolide concentration and the probability of luteinizing hormone ( lh ) suppression were assessed .',\n",
              "  'line_number': 0,\n",
              "  'total_lines': 10},\n",
              " {'target': 'METHODS',\n",
              "  'text': 'children diagnosed with cpp ( n = @ in each dosing cohort ) , who were treatment nave or previously treated , received a total of two intramuscular injections of either leuprolide acetate depot @ or @ mg formulations administered @ months apart .',\n",
              "  'line_number': 1,\n",
              "  'total_lines': 10},\n",
              " {'target': 'METHODS',\n",
              "  'text': 'serial blood samples were collected for leuprolide concentration determination in a subset of subjects ( n = @ in each cohort ) .',\n",
              "  'line_number': 2,\n",
              "  'total_lines': 10},\n",
              " {'target': 'METHODS',\n",
              "  'text': 'one-way analysis of covariance was used to assess dose proportionality .',\n",
              "  'line_number': 3,\n",
              "  'total_lines': 10},\n",
              " {'target': 'METHODS',\n",
              "  'text': 'the probability of lh suppression ( peak-stimulated lh concentrations < @ miu/ml ) exposure-response relationship was modelled using repeated measures logistic regression .',\n",
              "  'line_number': 4,\n",
              "  'total_lines': 10},\n",
              " {'target': 'METHODS',\n",
              "  'text': 'the predicted probability of lh suppression and the corresponding @ % confidence interval at the mean leuprolide concentration of each dose group and at each time of measurement were computed .',\n",
              "  'line_number': 5,\n",
              "  'total_lines': 10},\n",
              " {'target': 'RESULTS',\n",
              "  'text': 'mean leuprolide concentrations between weeks @ and @ for @ and @ mg doses were relatively constant and dose proportional , with no accumulation of leuprolide upon repeated administration .',\n",
              "  'line_number': 6,\n",
              "  'total_lines': 10},\n",
              " {'target': 'RESULTS',\n",
              "  'text': 'body weight and age were not found to be significant covariates on leuprolide pharmacokinetics .',\n",
              "  'line_number': 7,\n",
              "  'total_lines': 10},\n",
              " {'target': 'RESULTS',\n",
              "  'text': 'higher leuprolide concentrations were associated with higher probability of lh suppression and both doses provided lh suppression levels < @ miu/ml .',\n",
              "  'line_number': 8,\n",
              "  'total_lines': 10},\n",
              " {'target': 'CONCLUSIONS',\n",
              "  'text': 'leuprolide pharmacokinetics were characterized for @ and @ mg @-month depot injections .',\n",
              "  'line_number': 9,\n",
              "  'total_lines': 10},\n",
              " {'target': 'CONCLUSIONS',\n",
              "  'text': 'an exposure-response model was developed to link leuprolide concentrations and probability of peak-stimulated lh suppression .',\n",
              "  'line_number': 10,\n",
              "  'total_lines': 10}]"
            ]
          },
          "execution_count": 114,
          "metadata": {},
          "output_type": "execute_result"
        }
      ],
      "source": [
        "random_test_sample(test_samples)"
      ]
    },
    {
      "cell_type": "code",
      "execution_count": null,
      "metadata": {
        "colab": {
          "base_uri": "https://localhost:8080/"
        },
        "id": "IpaG_erHq14L",
        "outputId": "a5690a6e-32eb-407c-ba51-fa6a100bdaa9"
      },
      "outputs": [
        {
          "name": "stdout",
          "output_type": "stream",
          "text": [
            "1/1 [==============================] - 0s 35ms/step\n",
            "{'OBJECTIVE': ['to determine whether alcohol consumption is causally associated with cognitive impairment in older men as predicted by mendelian randomization .'], 'METHODS': ['retrospective analysis of a cohort study of @,@ community-dwelling men aged @ to @ years followed for @ years .', 'cognitive impairment was established by a mini-mental state examination score of @ or less .', 'participants provided detailed information about their use of alcohol during the preceding year and were classified as abstainers , occasional drinkers , and regular drinkers : mild ( < @ drinks/wk ) , moderate ( @-@ drinks/wk ) , heavy ( @-@ drinks/wk ) , and abusers ( @ drinks/wk ) .', 'other measures included age , education , marital status , smoking and physical activity , body mass index , diabetes , hypertension , and cardiovascular diseases .'], 'RESULTS': ['we genotyped the rs@ ga variant of the alcohol dehydrogenase @b ( adh@b ) gene , which is associated with lower prevalence of alcohol abuse and dependence .', 'at study entry , rs@ ga polymorphism was associated with lower prevalence of regular use of alcohol and decreased consumption among regular users .', 'six years later , @ men ( @ % ) showed evidence of cognitive impairment .', 'abstainers and irregular drinkers had higher odds of cognitive impairment than regular drinkers ( odds ratio -lsb- or -rsb- = @ , @ % confidence interval -lsb- ci -rsb- = @-@ @ , after adjustment for other measured factors ) .', 'the rs@ ga polymorphism did not decrease the odds of cognitive impairment ( aa/gg or = @ , @ % ci = @-@ @ ; ga/gg or = @ , @ % ci = @-@ @ ) .'], 'CONCLUSIONS': ['alcohol consumption , including heavy regular drinking and abuse , is not a direct cause of cognitive impairment in later life .', 'our results are consistent with the possibility , but do not prove , that regular moderate drinking decreases the risk of cognitive impairment in older men .']}\n"
          ]
        }
      ],
      "source": [
        "\n",
        "def predict_abstract_targets(abstract, model, label_encoder):\n",
        "    \"\"\"\n",
        "    Predict the target for each line of text in the abstract using a TensorFlow model,\n",
        "    considering that line numbers and total lines are one-hot encoded.\n",
        "\n",
        "    Parameters:\n",
        "    abstract (list of dict): The abstract sample.\n",
        "    model (tf.keras.Model): The trained TensorFlow model.\n",
        "    label_encoder (LabelEncoder): The LabelEncoder instance used for targets.\n",
        "\n",
        "    Returns:\n",
        "    list of dict: The abstract sample with predicted targets.\n",
        "    \"\"\"\n",
        "    # Extract and one-hot encode line numbers and total lines\n",
        "    line_numbers = [line['line_number'] for line in abstract]\n",
        "    total_lines = [line['total_lines'] for line in abstract]\n",
        "\n",
        "    # Assuming the depth for line numbers is 15 and for total lines is 20\n",
        "    line_numbers_one_hot = tf.one_hot(line_numbers, depth=15)\n",
        "    total_lines_one_hot = tf.one_hot(total_lines, depth=20)\n",
        "\n",
        "    # Prepare sentences and characters (assuming preprocessing is the same as for training)\n",
        "    sentences = [line['text'] for line in abstract]\n",
        "    chars = [line['text'] for line in abstract]  # Adjust this according to how you've processed chars for training\n",
        "\n",
        "    # Convert sentences and chars to tensors or appropriate structures\n",
        "    sentences_tensor = tf.constant(sentences)\n",
        "    chars_tensor = tf.constant(chars)\n",
        "\n",
        "    # Model prediction\n",
        "    predictions = model.predict((line_numbers_one_hot, total_lines_one_hot, sentences_tensor, chars_tensor))\n",
        "    predicted_indices = tf.argmax(predictions, axis=1).numpy()\n",
        "\n",
        "    # Decode the predicted indices to original labels\n",
        "    predicted_labels = label_encoder.inverse_transform(predicted_indices)\n",
        "\n",
        "    # Update the abstract with predicted labels\n",
        "    for i, line in enumerate(abstract):\n",
        "        line['predicted_target'] = predicted_labels[i]\n",
        "\n",
        "    return abstract\n",
        "\n",
        "def group_by_predicted_category(abstract_sample):\n",
        "    \"\"\"\n",
        "    Group texts by their predicted categories.\n",
        "\n",
        "    Parameters:\n",
        "    abstract_sample (list of dict): The abstract sample with predicted targets.\n",
        "\n",
        "    Returns:\n",
        "    dict: A dictionary grouping texts by their predicted targets.\n",
        "    \"\"\"\n",
        "    category_groups = {}\n",
        "    for line in abstract_sample:\n",
        "        category = line['predicted_target']\n",
        "        category_groups.setdefault(category, []).append(line['text'])\n",
        "    return category_groups\n",
        "\n",
        "\n",
        "\n",
        "random_abstract = random_test_sample(test_samples)\n",
        "\n",
        "# Predict targets for each line in the abstract\n",
        "predicted_abstract = predict_abstract_targets(random_abstract, model_tribrid,label_encoder)\n",
        "\n",
        "# Group texts by their predicted categories\n",
        "grouped_texts = group_by_predicted_category(predicted_abstract)\n",
        "print(grouped_texts)"
      ]
    },
    {
      "cell_type": "code",
      "execution_count": null,
      "metadata": {
        "colab": {
          "base_uri": "https://localhost:8080/"
        },
        "id": "_nJrw-cr02Wu",
        "outputId": "e1cbc9a3-b409-4d0d-b99e-85551bcfe99c"
      },
      "outputs": [
        {
          "name": "stdout",
          "output_type": "stream",
          "text": [
            "to determine whether alcohol consumption is causally associated with cognitive impairment in older men as predicted by mendelian randomization .\n",
            "retrospective analysis of a cohort study of @,@ community-dwelling men aged @ to @ years followed for @ years .\n",
            "cognitive impairment was established by a mini-mental state examination score of @ or less .\n",
            "participants provided detailed information about their use of alcohol during the preceding year and were classified as abstainers , occasional drinkers , and regular drinkers : mild ( < @ drinks/wk ) , moderate ( @-@ drinks/wk ) , heavy ( @-@ drinks/wk ) , and abusers ( @ drinks/wk ) .\n",
            "we genotyped the rs@ ga variant of the alcohol dehydrogenase @b ( adh@b ) gene , which is associated with lower prevalence of alcohol abuse and dependence .\n",
            "other measures included age , education , marital status , smoking and physical activity , body mass index , diabetes , hypertension , and cardiovascular diseases .\n",
            "at study entry , rs@ ga polymorphism was associated with lower prevalence of regular use of alcohol and decreased consumption among regular users .\n",
            "six years later , @ men ( @ % ) showed evidence of cognitive impairment .\n",
            "abstainers and irregular drinkers had higher odds of cognitive impairment than regular drinkers ( odds ratio -lsb- or -rsb- = @ , @ % confidence interval -lsb- ci -rsb- = @-@ @ , after adjustment for other measured factors ) .\n",
            "the rs@ ga polymorphism did not decrease the odds of cognitive impairment ( aa/gg or = @ , @ % ci = @-@ @ ; ga/gg or = @ , @ % ci = @-@ @ ) .\n",
            "alcohol consumption , including heavy regular drinking and abuse , is not a direct cause of cognitive impairment in later life .\n",
            "our results are consistent with the possibility , but do not prove , that regular moderate drinking decreases the risk of cognitive impairment in older men .\n"
          ]
        }
      ],
      "source": [
        "#############         Before           ##########################\n",
        "for item in random_abstract:\n",
        "  print(item[\"text\"])"
      ]
    },
    {
      "cell_type": "code",
      "execution_count": null,
      "metadata": {
        "colab": {
          "base_uri": "https://localhost:8080/"
        },
        "id": "5tDoicZeq2BX",
        "outputId": "620568ca-48dc-4880-cdf6-39df665a2dc5"
      },
      "outputs": [
        {
          "name": "stdout",
          "output_type": "stream",
          "text": [
            "--------------------------------------------------------------------------------------------------------------------------------------------------------------------------------------------------------\n",
            "OBJECTIVE\n",
            "--------------------------------------------------------------------------------------------------------------------------------------------------------------------------------------------------------\n",
            "to determine whether alcohol consumption is causally associated with cognitive impairment in older men as predicted by mendelian randomization .\n",
            "--------------------------------------------------------------------------------------------------------------------------------------------------------------------------------------------------------\n",
            "METHODS\n",
            "--------------------------------------------------------------------------------------------------------------------------------------------------------------------------------------------------------\n",
            "retrospective analysis of a cohort study of @,@ community-dwelling men aged @ to @ years followed for @ years .\n",
            "cognitive impairment was established by a mini-mental state examination score of @ or less .\n",
            "participants provided detailed information about their use of alcohol during the preceding year and were classified as abstainers , occasional drinkers , and regular drinkers : mild ( < @ drinks/wk ) , moderate ( @-@ drinks/wk ) , heavy ( @-@ drinks/wk ) , and abusers ( @ drinks/wk ) .\n",
            "other measures included age , education , marital status , smoking and physical activity , body mass index , diabetes , hypertension , and cardiovascular diseases .\n",
            "--------------------------------------------------------------------------------------------------------------------------------------------------------------------------------------------------------\n",
            "RESULTS\n",
            "--------------------------------------------------------------------------------------------------------------------------------------------------------------------------------------------------------\n",
            "we genotyped the rs@ ga variant of the alcohol dehydrogenase @b ( adh@b ) gene , which is associated with lower prevalence of alcohol abuse and dependence .\n",
            "at study entry , rs@ ga polymorphism was associated with lower prevalence of regular use of alcohol and decreased consumption among regular users .\n",
            "six years later , @ men ( @ % ) showed evidence of cognitive impairment .\n",
            "abstainers and irregular drinkers had higher odds of cognitive impairment than regular drinkers ( odds ratio -lsb- or -rsb- = @ , @ % confidence interval -lsb- ci -rsb- = @-@ @ , after adjustment for other measured factors ) .\n",
            "the rs@ ga polymorphism did not decrease the odds of cognitive impairment ( aa/gg or = @ , @ % ci = @-@ @ ; ga/gg or = @ , @ % ci = @-@ @ ) .\n",
            "--------------------------------------------------------------------------------------------------------------------------------------------------------------------------------------------------------\n",
            "CONCLUSIONS\n",
            "--------------------------------------------------------------------------------------------------------------------------------------------------------------------------------------------------------\n",
            "alcohol consumption , including heavy regular drinking and abuse , is not a direct cause of cognitive impairment in later life .\n",
            "our results are consistent with the possibility , but do not prove , that regular moderate drinking decreases the risk of cognitive impairment in older men .\n"
          ]
        }
      ],
      "source": [
        "#############         After           ##########################\n",
        "for key, item in grouped_texts.items():\n",
        "  print(100*'--')\n",
        "  print(key)\n",
        "  print(100*'--')\n",
        "  for text in item:\n",
        "    print(text)"
      ]
    }
  ],
  "metadata": {
    "accelerator": "GPU",
    "colab": {
      "gpuType": "T4",
      "provenance": [],
      "toc_visible": true
    },
    "kernelspec": {
      "display_name": "Python 3",
      "name": "python3"
    },
    "language_info": {
      "name": "python"
    }
  },
  "nbformat": 4,
  "nbformat_minor": 0
}
